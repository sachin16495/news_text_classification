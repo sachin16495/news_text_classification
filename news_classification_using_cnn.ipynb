{
 "cells": [
  {
   "cell_type": "code",
   "execution_count": 1,
   "metadata": {
    "_cell_guid": "270977f6-ba10-4672-b34e-abb58897d7ce",
    "_uuid": "bd2e3765fddd6f190239b2e2100e001d77851e64"
   },
   "outputs": [
    {
     "name": "stderr",
     "output_type": "stream",
     "text": [
      "Using TensorFlow backend.\n"
     ]
    }
   ],
   "source": [
    "import os\n",
    "import numpy as np\n",
    "import pandas as pd\n",
    "import math\n",
    "from keras.layers import Activation, Conv1D, Dense, Embedding, Flatten, Input, MaxPooling1D,MaxPooling2D\n",
    "from keras.models import Sequential\n",
    "from keras.preprocessing.text import Tokenizer\n",
    "from keras.preprocessing.sequence import pad_sequences\n",
    "from keras.metrics import categorical_accuracy\n",
    "from keras.models import load_model\n"
   ]
  },
  {
   "cell_type": "markdown",
   "metadata": {},
   "source": [
    "Excel Data Frame Creation "
   ]
  },
  {
   "cell_type": "code",
   "execution_count": 2,
   "metadata": {},
   "outputs": [],
   "source": [
    "dfexcel=pd.read_excel(\"news_details.xlsx\")\n",
    "dfexcel_cat=pd.read_excel(\"category_mapping.xlsx\")\n",
    "text_df=pd.merge(dfexcel,dfexcel_cat,on='news_id')"
   ]
  },
  {
   "cell_type": "markdown",
   "metadata": {},
   "source": [
    "Data Cleasing function clean the data fram and remove the noise from the text and also it return mean length."
   ]
  },
  {
   "cell_type": "code",
   "execution_count": 3,
   "metadata": {},
   "outputs": [],
   "source": [
    "def text_clense_frame(text_df):\n",
    "    text_frm=[]\n",
    "    mid=0\n",
    "    for sm in text_df:\n",
    "        #print(sm)\n",
    "        st=str(sm)\n",
    "        if st=='nan':\n",
    "            st='unk'\n",
    "        smal=st.lower()\n",
    "        substitutions={\"'\":\"\",\"(\":\"\",\")\":\"\",\"+\":\"\"}\n",
    "        listt=[\"(\",\")\",\"'\",\"-\",\"\\n\"]\n",
    "        for ls in listt:\n",
    "            smal=smal.replace(ls,\"\")\n",
    "        text_frm.append(smal)\n",
    "    mid=mid/len(text_df)\n",
    "    mid=math.floor(mid)#flor(mid)\n",
    "    return text_frm"
   ]
  },
  {
   "cell_type": "markdown",
   "metadata": {},
   "source": [
    "It calculate the text train and test split size  I took 10% for testing data"
   ]
  },
  {
   "cell_type": "code",
   "execution_count": 4,
   "metadata": {},
   "outputs": [],
   "source": [
    "amout=round(len(text_df)*0.1)"
   ]
  },
  {
   "cell_type": "code",
   "execution_count": 5,
   "metadata": {},
   "outputs": [],
   "source": [
    "trainlen=len(text_df)-amout"
   ]
  },
  {
   "cell_type": "code",
   "execution_count": 6,
   "metadata": {},
   "outputs": [
    {
     "data": {
      "text/plain": [
       "4847"
      ]
     },
     "execution_count": 6,
     "metadata": {},
     "output_type": "execute_result"
    }
   ],
   "source": [
    "trainlen"
   ]
  },
  {
   "cell_type": "code",
   "execution_count": 7,
   "metadata": {},
   "outputs": [],
   "source": [
    "testlen=round(amout)"
   ]
  },
  {
   "cell_type": "code",
   "execution_count": 8,
   "metadata": {},
   "outputs": [
    {
     "data": {
      "text/plain": [
       "539"
      ]
     },
     "execution_count": 8,
     "metadata": {},
     "output_type": "execute_result"
    }
   ],
   "source": [
    "testlen"
   ]
  },
  {
   "cell_type": "code",
   "execution_count": 9,
   "metadata": {},
   "outputs": [],
   "source": [
    "train=text_df[0:trainlen]"
   ]
  },
  {
   "cell_type": "code",
   "execution_count": 10,
   "metadata": {},
   "outputs": [],
   "source": [
    "test=text_df[trainlen:]"
   ]
  },
  {
   "cell_type": "code",
   "execution_count": 11,
   "metadata": {
    "_cell_guid": "b3dd90f1-a67a-49c8-9a29-94c7ec09d7e8",
    "_uuid": "15ce3cbfcae7b6af1d0f802d4c840c817b38a845"
   },
   "outputs": [],
   "source": [
    "texts = text_clense_frame(train[\"snippet\"].values)\n",
    "target = train[\"category_id\"].values"
   ]
  },
  {
   "cell_type": "code",
   "execution_count": 12,
   "metadata": {},
   "outputs": [],
   "source": [
    "c=list(target)\n",
    "target=[t-1 for t in c]"
   ]
  },
  {
   "cell_type": "code",
   "execution_count": 13,
   "metadata": {},
   "outputs": [],
   "source": [
    "texts=[str(t) for t in texts ]"
   ]
  },
  {
   "cell_type": "markdown",
   "metadata": {
    "_cell_guid": "62540aeb-0b49-4171-8e7c-ac4dadce2159",
    "_uuid": "93bd1e0a8ef83c1d36d6a3a6dbf59eaa57483027"
   },
   "source": [
    "The vocabulary is depend on the total number of unique in the features "
   ]
  },
  {
   "cell_type": "code",
   "execution_count": 14,
   "metadata": {
    "_cell_guid": "84268d63-7f77-4bdd-97a2-a8279b340847",
    "_uuid": "fd1a639cd290c49cc97bda64efb514fafd7f299e"
   },
   "outputs": [],
   "source": [
    "vocab_size = 9573 \n",
    "\n",
    "tokenizer = Tokenizer(num_words=vocab_size) # Setup tokenizer\n",
    "tokenizer.fit_on_texts(texts)\n",
    "sequences = tokenizer.texts_to_sequences(texts) # Generate sequences"
   ]
  },
  {
   "cell_type": "code",
   "execution_count": 15,
   "metadata": {
    "_cell_guid": "76757929-31f2-4a85-929e-011499407245",
    "_uuid": "069169b21fdea43c6334ecd2c9307031c3460f70"
   },
   "outputs": [],
   "source": [
    "word_index = tokenizer.word_index\n"
   ]
  },
  {
   "cell_type": "markdown",
   "metadata": {
    "_cell_guid": "4e2509e9-01d6-4039-a790-21e0ac75e15e",
    "_uuid": "4ce7f226d4075b7e0122ba30efae47e456fd22a7"
   },
   "source": [
    "In the below script I create inverse index mapping of each words in the feature map"
   ]
  },
  {
   "cell_type": "code",
   "execution_count": 16,
   "metadata": {
    "_cell_guid": "adca0ca9-dcee-403c-9887-5b8102d375eb",
    "_uuid": "99510c98db9a325e2025534b3cb1ccf9d5258238",
    "scrolled": true
   },
   "outputs": [
    {
     "name": "stdout",
     "output_type": "stream",
     "text": [
      "new delhi bank of baroda which has become the countrys second largest bank by merging vijaya bank and dena bank with itself will undertake evaluation of xa0 "
     ]
    }
   ],
   "source": [
    "\n",
    "inv_index = {v: k for k, v in tokenizer.word_index.items()}\n",
    "\n",
    "\n",
    "for w in sequences[0]:\n",
    "    x = inv_index.get(w)\n",
    "    print(x,end = ' ')"
   ]
  },
  {
   "cell_type": "markdown",
   "metadata": {
    "_cell_guid": "c726fbcc-9e0d-4860-bd55-822198f38ada",
    "_uuid": "e09517f67a5014cfc9b44d4a74b2cf31048f4796"
   },
   "source": [
    " Get the average length of a text and get the standard deviation of the sequence length"
   ]
  },
  {
   "cell_type": "code",
   "execution_count": 17,
   "metadata": {
    "_cell_guid": "319d4933-115a-49eb-ac34-7976e2ae2b2b",
    "_uuid": "6a2a5104a4a345c1bd93d042734b5034dba631c7"
   },
   "outputs": [
    {
     "data": {
      "text/plain": [
       "(24.572519083969464, 3.097889214698444)"
      ]
     },
     "execution_count": 17,
     "metadata": {},
     "output_type": "execute_result"
    }
   ],
   "source": [
    "\n",
    "avg = sum(map(len, sequences)) / len(sequences)\n",
    "std = np.sqrt(sum(map(lambda x: (len(x) - avg)**2, sequences)) / len(sequences))\n",
    "\n",
    "avg,std"
   ]
  },
  {
   "cell_type": "markdown",
   "metadata": {},
   "source": [
    "Padding small sentence sequnce  "
   ]
  },
  {
   "cell_type": "code",
   "execution_count": 18,
   "metadata": {
    "_cell_guid": "53020108-b7bb-4ea3-93c9-e39f59c03336",
    "_uuid": "2278bc08b537e9c80560c08a1f34a002d079302c"
   },
   "outputs": [],
   "source": [
    "max_length = 100\n",
    "data = pad_sequences(sequences, maxlen=max_length)"
   ]
  },
  {
   "cell_type": "markdown",
   "metadata": {
    "_cell_guid": "5d5c77a4-0ef1-4602-9c2d-f41fb2ba2480",
    "_uuid": "1b210651bbce6277e504b0ea1eb15b7df34d820b"
   },
   "source": [
    "Generate the on hot encodding of the labeled text"
   ]
  },
  {
   "cell_type": "code",
   "execution_count": 19,
   "metadata": {
    "_cell_guid": "9bc07094-3eea-4284-870a-1c944d890709",
    "_uuid": "4d3bb2cdd37e893a1979bdb5e605b03ca05a52f1"
   },
   "outputs": [
    {
     "name": "stdout",
     "output_type": "stream",
     "text": [
      "3\n",
      "[0. 0. 0. 1. 0. 0. 0.]\n"
     ]
    }
   ],
   "source": [
    "from keras.utils import to_categorical\n",
    "labels = to_categorical(np.asarray(target),7)\n",
    "print (target[0])\n",
    "print (labels[0])"
   ]
  },
  {
   "cell_type": "markdown",
   "metadata": {
    "_cell_guid": "73c95137-dd9e-4a71-a6f4-e62ff2885f15",
    "_uuid": "015296894ba4820a363af404cc0f11e7f2922949"
   },
   "source": [
    "\n",
    "Load the glove embedding 6b100d encodding .I create a dictionary of word --> embedding\n"
   ]
  },
  {
   "cell_type": "code",
   "execution_count": 20,
   "metadata": {
    "_cell_guid": "26fa63f3-bd92-4aab-9280-b270dbdee4ce",
    "_uuid": "3b981a5596e00038ed900e76be33ba89b9561cb1"
   },
   "outputs": [],
   "source": [
    "glove_dir = 'glove.6B' \n",
    "\n",
    "embeddings_index = {} # We create a dictionary of word -> embedding\n",
    "\n",
    "with open(os.path.join(glove_dir, 'glove.6B.100d.txt')) as f:\n",
    "    for line in f:\n",
    "        values = line.split()\n",
    "        word = values[0] \n",
    "        embedding = np.asarray(values[1:], dtype='float32') \n",
    "        embeddings_index[word] = embedding \n"
   ]
  },
  {
   "cell_type": "markdown",
   "metadata": {},
   "source": [
    "I used 100 dimensional glove vectors. Meaning a word with token 1 needs to be in the second row (rows start with zero) and so on. If we are above the amount of words we want to use we do nothing"
   ]
  },
  {
   "cell_type": "code",
   "execution_count": 21,
   "metadata": {
    "_cell_guid": "8d9a3a8f-fde2-48ce-af98-71591cdbe180",
    "_uuid": "9375f22be07d4fbba8ff316c4119e9f415ee656d"
   },
   "outputs": [],
   "source": [
    "embedding_dim = 100\n",
    "\n",
    "word_index = tokenizer.word_index\n",
    "nb_words = min(vocab_size, len(word_index)) \n",
    "\n",
    "embedding_matrix = np.zeros((nb_words, embedding_dim))\n",
    "\n",
    "\n",
    "for word, i in word_index.items():\n",
    "    if i >= vocab_size: \n",
    "        continue\n",
    "    embedding_vector = embeddings_index.get(word)\n",
    "    if embedding_vector is not None: \n",
    "        embedding_matrix[i] = embedding_vector"
   ]
  },
  {
   "cell_type": "code",
   "execution_count": 22,
   "metadata": {},
   "outputs": [
    {
     "data": {
      "text/plain": [
       "9573"
      ]
     },
     "execution_count": 22,
     "metadata": {},
     "output_type": "execute_result"
    }
   ],
   "source": [
    "len(embedding_matrix)"
   ]
  },
  {
   "cell_type": "code",
   "execution_count": 23,
   "metadata": {
    "_uuid": "79244ba7299c991561eed3f57fbac27d280236f5"
   },
   "outputs": [
    {
     "name": "stdout",
     "output_type": "stream",
     "text": [
      "[ 1.05499995 -0.23833001 -0.52052999  0.34286001 -0.046057   -0.15099999\n",
      " -0.67444998 -0.16706    -0.65055001 -0.19326     0.71780998  0.28832\n",
      "  0.23698001 -1.04139996 -0.57484001  0.082482   -0.2309      0.54693002\n",
      " -0.35802999 -0.88624001 -0.77665001 -0.26232001 -0.077467    0.82942998\n",
      " -1.00639999 -0.17110001 -0.59697002  0.52974999  0.21378     0.40193999\n",
      "  0.18475001 -0.33362001  0.99932998 -0.10002    -0.26958001 -0.18855\n",
      " -0.62658     0.38863999 -0.47117999 -0.14751001  1.99399996 -0.64741999\n",
      "  0.15177     0.33061001 -0.15492     0.43318     0.31668001 -0.21518999\n",
      " -0.048561   -0.15910999 -0.70523    -0.057767   -0.20753001 -0.20129\n",
      " -0.59277999  0.71489     0.091102    0.61378998 -0.043762   -0.75882\n",
      "  0.15305001 -0.1717     -0.27239999 -0.16298001 -0.37547001  0.3087\n",
      " -1.05449998 -0.58569002 -0.39877999 -0.029635   -0.17367999 -0.59144002\n",
      "  0.55395001  0.50375003  0.48769999  0.18953     0.28022    -0.43133\n",
      " -0.23525999 -0.040347   -0.042313   -0.19021     0.27761999  0.12779\n",
      "  0.67144001 -0.38288    -0.0035507   0.42230001 -0.20606001 -0.33992001\n",
      "  0.22199     0.60864002  0.38304999  0.40331     0.36568999  0.053877\n",
      " -0.68427998 -0.48462999  0.67317998  0.52205002]\n"
     ]
    }
   ],
   "source": [
    "print (embedding_matrix[100])"
   ]
  },
  {
   "cell_type": "markdown",
   "metadata": {},
   "source": [
    "Below you will find the architecture of the model is based on covolution neural network 1D and the activation function used in the network is relu."
   ]
  },
  {
   "cell_type": "code",
   "execution_count": 24,
   "metadata": {
    "_cell_guid": "247e1cba-19ed-4153-8bd1-486a95e8af06",
    "_uuid": "a9fec5775edfc68a6b4f5c4c87cee9cd91248072"
   },
   "outputs": [
    {
     "name": "stdout",
     "output_type": "stream",
     "text": [
      "_________________________________________________________________\n",
      "Layer (type)                 Output Shape              Param #   \n",
      "=================================================================\n",
      "embedding_1 (Embedding)      (None, 100, 100)          957300    \n",
      "_________________________________________________________________\n",
      "conv1d_1 (Conv1D)            (None, 98, 128)           38528     \n",
      "_________________________________________________________________\n",
      "max_pooling1d_1 (MaxPooling1 (None, 32, 128)           0         \n",
      "_________________________________________________________________\n",
      "conv1d_2 (Conv1D)            (None, 30, 128)           49280     \n",
      "_________________________________________________________________\n",
      "max_pooling1d_2 (MaxPooling1 (None, 10, 128)           0         \n",
      "_________________________________________________________________\n",
      "conv1d_3 (Conv1D)            (None, 8, 128)            49280     \n",
      "_________________________________________________________________\n",
      "max_pooling1d_3 (MaxPooling1 (None, 2, 128)            0         \n",
      "_________________________________________________________________\n",
      "flatten_1 (Flatten)          (None, 256)               0         \n",
      "_________________________________________________________________\n",
      "dense_1 (Dense)              (None, 128)               32896     \n",
      "_________________________________________________________________\n",
      "dense_2 (Dense)              (None, 7)                 903       \n",
      "=================================================================\n",
      "Total params: 1,128,187\n",
      "Trainable params: 1,128,187\n",
      "Non-trainable params: 0\n",
      "_________________________________________________________________\n"
     ]
    }
   ],
   "source": [
    "model = Sequential()\n",
    "model.add(Embedding(vocab_size, \n",
    "                    embedding_dim, \n",
    "                    input_length=max_length, \n",
    "                    weights = [embedding_matrix]))\n",
    "model.add(Conv1D(128, 3, activation='relu'))\n",
    "model.add(MaxPooling1D(3))\n",
    "model.add(Conv1D(128, 3, activation='relu'))\n",
    "model.add(MaxPooling1D(3))\n",
    "model.add(Conv1D(128, 3, activation='relu'))\n",
    "model.add(MaxPooling1D(3))\n",
    "model.add(Flatten())\n",
    "model.add(Dense(128, activation='relu'))\n",
    "model.add(Dense(7, activation='softmax'))\n",
    "model.summary()"
   ]
  },
  {
   "cell_type": "markdown",
   "metadata": {},
   "source": [
    "The loss I use is categorical cross entropy loss and the optimizer function is adam optimizer"
   ]
  },
  {
   "cell_type": "code",
   "execution_count": 26,
   "metadata": {
    "_cell_guid": "1d2d9403-1c38-4460-b662-0a4348baafc3",
    "_uuid": "d1452fe4eea37469442d4ae4152e71098d1df900"
   },
   "outputs": [],
   "source": [
    "model.compile(loss='categorical_crossentropy', optimizer='adam', metrics=[categorical_accuracy])\n"
   ]
  },
  {
   "cell_type": "code",
   "execution_count": 27,
   "metadata": {},
   "outputs": [
    {
     "name": "stdout",
     "output_type": "stream",
     "text": [
      "Train on 3877 samples, validate on 970 samples\n",
      "Epoch 1/10\n",
      "3877/3877 [==============================] - 2s 436us/step - loss: 1.5541 - categorical_accuracy: 0.4295 - val_loss: 1.6512 - val_categorical_accuracy: 0.3732\n",
      "Epoch 2/10\n",
      "3877/3877 [==============================] - 1s 135us/step - loss: 1.0204 - categorical_accuracy: 0.6528 - val_loss: 1.9168 - val_categorical_accuracy: 0.3835\n",
      "Epoch 3/10\n",
      "3877/3877 [==============================] - 1s 133us/step - loss: 0.6059 - categorical_accuracy: 0.7993 - val_loss: 2.2449 - val_categorical_accuracy: 0.3856\n",
      "Epoch 4/10\n",
      "3877/3877 [==============================] - 1s 135us/step - loss: 0.3740 - categorical_accuracy: 0.8726 - val_loss: 2.7927 - val_categorical_accuracy: 0.3794\n",
      "Epoch 5/10\n",
      "3877/3877 [==============================] - 1s 134us/step - loss: 0.2805 - categorical_accuracy: 0.9059 - val_loss: 3.0119 - val_categorical_accuracy: 0.3773\n",
      "Epoch 6/10\n",
      "3877/3877 [==============================] - 1s 136us/step - loss: 0.1987 - categorical_accuracy: 0.9283 - val_loss: 3.4784 - val_categorical_accuracy: 0.3567\n",
      "Epoch 7/10\n",
      "3877/3877 [==============================] - 1s 134us/step - loss: 0.1729 - categorical_accuracy: 0.9376 - val_loss: 3.7892 - val_categorical_accuracy: 0.3649\n",
      "Epoch 8/10\n",
      "3877/3877 [==============================] - 1s 136us/step - loss: 0.1568 - categorical_accuracy: 0.9430 - val_loss: 3.7590 - val_categorical_accuracy: 0.3546\n",
      "Epoch 9/10\n",
      "3877/3877 [==============================] - 1s 132us/step - loss: 0.1519 - categorical_accuracy: 0.9412 - val_loss: 4.0223 - val_categorical_accuracy: 0.3835\n",
      "Epoch 10/10\n",
      "3877/3877 [==============================] - 1s 133us/step - loss: 0.1822 - categorical_accuracy: 0.9345 - val_loss: 3.6721 - val_categorical_accuracy: 0.3804\n"
     ]
    },
    {
     "data": {
      "text/plain": [
       "<keras.callbacks.History at 0x7fc353e63ac8>"
      ]
     },
     "execution_count": 27,
     "metadata": {},
     "output_type": "execute_result"
    }
   ],
   "source": [
    "model.fit(data, labels, validation_split=0.2, epochs=10)"
   ]
  },
  {
   "cell_type": "markdown",
   "metadata": {},
   "source": [
    "I apply bagging on three features and by calculating "
   ]
  },
  {
   "cell_type": "code",
   "execution_count": 28,
   "metadata": {},
   "outputs": [],
   "source": [
    "model = load_model('H5 weightCNN/snippet.h5')"
   ]
  },
  {
   "cell_type": "code",
   "execution_count": 29,
   "metadata": {},
   "outputs": [],
   "source": [
    "snipp_test=text_clense_frame(test['snippet'])\n",
    "title_test=text_clense_frame(test['title'])\n",
    "newdescrip_test=text_clense_frame(test['news_description'])"
   ]
  },
  {
   "cell_type": "code",
   "execution_count": 34,
   "metadata": {
    "_cell_guid": "f33f85c3-1abe-4d31-bba1-d401acd3202d",
    "_uuid": "3dbca1eee1d8de8a9c4da650dfbafa31913be757"
   },
   "outputs": [
    {
     "data": {
      "text/plain": [
       "['sanlam limited is a financial services company since 1918. the company employs more than 17,000 people worldwide and manages an asset of 70 ...',\n",
       " 'sanlam limited is a financial services company since 1918. the company employs more than 17,000 people worldwide and manages an asset of 70 ...',\n",
       " 'sanlam limited is a financial services company since 1918. the company employs more than 17,000 people worldwide and manages an asset of 70 ...',\n",
       " 'the carmakers, which jointly form the renaultnissanmitsubishi alliance, said their strategic venture capital fund, alliance ventures, has signed a partnership\\\\xa0...',\n",
       " 'the carmakers, which jointly form the renaultnissanmitsubishi alliance, said their strategic venture capital fund, alliance ventures, has signed a partnership\\\\xa0...',\n",
       " 'the carmakers, which jointly form the renaultnissanmitsubishi alliance, said their strategic venture capital fund, alliance ventures, has signed a partnership\\\\xa0...',\n",
       " 'the carmakers, which jointly form the renaultnissanmitsubishi alliance, said their strategic venture capital fund, alliance ventures, has signed a partnership\\\\xa0...',\n",
       " 'over the next three years, volvo cars expects to hire and train around 2,500 more workers and build onto existing buildings to accommodate a second vehicle\\\\xa0...',\n",
       " 'over the next three years, volvo cars expects to hire and train around 2,500 more workers and build onto existing buildings to accommodate a second vehicle\\\\xa0...',\n",
       " 'over the next three years, volvo cars expects to hire and train around 2,500 more workers and build onto existing buildings to accommodate a second vehicle\\\\xa0...',\n",
       " 'over the next three years, volvo cars expects to hire and train around 2,500 more workers and build onto existing buildings to accommodate a second vehicle\\\\xa0...',\n",
       " 'in his new role, he repositioned xerox as \\\\u201cthe document company,\\\\u201d which signified its role as an innovator at the intersection of the worlds paperbased and\\\\xa0...',\n",
       " 'in his new role, he repositioned xerox as \\\\u201cthe document company,\\\\u201d which signified its role as an innovator at the intersection of the worlds paperbased and\\\\xa0...',\n",
       " 'in his new role, he repositioned xerox as \\\\u201cthe document company,\\\\u201d which signified its role as an innovator at the intersection of the worlds paperbased and\\\\xa0...',\n",
       " 'in his new role, he repositioned xerox as \\\\u201cthe document company,\\\\u201d which signified its role as an innovator at the intersection of the worlds paperbased and\\\\xa0...',\n",
       " 'windsor, conn.business wiremay 10, 2019voya financial, inc. nyse:voya, announced today a new collaboration with wellthy, a health care\\\\xa0...',\n",
       " 'windsor, conn.business wiremay 10, 2019voya financial, inc. nyse:voya, announced today a new collaboration with wellthy, a health care\\\\xa0...',\n",
       " 'windsor, conn.business wiremay 10, 2019voya financial, inc. nyse:voya, announced today a new collaboration with wellthy, a health care\\\\xa0...',\n",
       " 'windsor, conn.business wiremay 10, 2019voya financial, inc. nyse:voya, announced today a new collaboration with wellthy, a health care\\\\xa0...',\n",
       " 'datto has hired akamai and unbxd veteran sanjay singh as chief sales officer, channele2e has ... senior vp of global operations at akamai technologies.',\n",
       " 'jollychic is the leading ecommerce platform in the middle east and has rich insights in digital retail and the market trends. we are glad to work closely with\\\\xa0...',\n",
       " 'jollychic is the leading ecommerce platform in the middle east and has rich insights in digital retail and the market trends. we are glad to work closely with\\\\xa0...',\n",
       " 'jollychic is the leading ecommerce platform in the middle east and has rich insights in digital retail and the market trends. we are glad to work closely with\\\\xa0...',\n",
       " 'jollychic is the leading ecommerce platform in the middle east and has rich insights in digital retail and the market trends. we are glad to work closely with\\\\xa0...',\n",
       " 'airbus americas inc. has inked a deal for expansion space in loudoun county after outgrowing a smaller distribution and spare parts facility it upgraded for its\\\\xa0...',\n",
       " 'airbus americas inc. has inked a deal for expansion space in loudoun county after outgrowing a smaller distribution and spare parts facility it upgraded for its\\\\xa0...',\n",
       " 'airbus americas inc. has inked a deal for expansion space in loudoun county after outgrowing a smaller distribution and spare parts facility it upgraded for its\\\\xa0...',\n",
       " 'airbus americas inc. has inked a deal for expansion space in loudoun county after outgrowing a smaller distribution and spare parts facility it upgraded for its\\\\xa0...',\n",
       " 'a pair of new nominees for the onespan board of directors will be considered at the companys annual stockholder meeting on june 12, 2019. twilio senior\\\\xa0...',\n",
       " 'a pair of new nominees for the onespan board of directors will be considered at the companys annual stockholder meeting on june 12, 2019. twilio senior\\\\xa0...',\n",
       " 'a pair of new nominees for the onespan board of directors will be considered at the companys annual stockholder meeting on june 12, 2019. twilio senior\\\\xa0...',\n",
       " 'a pair of new nominees for the onespan board of directors will be considered at the companys annual stockholder meeting on june 12, 2019. twilio senior\\\\xa0...',\n",
       " 'wellington/bangalore reuters  utilities investor infratil ltd said on friday it was in talks with vodafone group plc to buy, along with another unnamed\\\\xa0...',\n",
       " 'wellington/bangalore reuters  utilities investor infratil ltd said on friday it was in talks with vodafone group plc to buy, along with another unnamed\\\\xa0...',\n",
       " 'wellington/bangalore reuters  utilities investor infratil ltd said on friday it was in talks with vodafone group plc to buy, along with another unnamed\\\\xa0...',\n",
       " 'wellington/bangalore reuters  utilities investor infratil ltd said on friday it was in talks with vodafone group plc to buy, along with another unnamed\\\\xa0...',\n",
       " 'during her keynote at tnws 2019 conference today, dropboxs carmen pop was quick to denote the differences between diversity and inclusion, and how both\\\\xa0...',\n",
       " 'new york, may 9, 2019 /prnewswire/  mediamath, the leading independent programmatic company for marketers, today announced it has strengthened its\\\\xa0...',\n",
       " 'new york, may 9, 2019 /prnewswire/  mediamath, the leading independent programmatic company for marketers, today announced it has strengthened its\\\\xa0...',\n",
       " 'new york, may 9, 2019 /prnewswire/  mediamath, the leading independent programmatic company for marketers, today announced it has strengthened its\\\\xa0...',\n",
       " 'new york, may 9, 2019 /prnewswire/  mediamath, the leading independent programmatic company for marketers, today announced it has strengthened its\\\\xa0...',\n",
       " 'the management teams at both mplx and andeavor logistics announced a move by the former to acquire the latter in an allstock deal. this will solidify and\\\\xa0...',\n",
       " 'the management teams at both mplx and andeavor logistics announced a move by the former to acquire the latter in an allstock deal. this will solidify and\\\\xa0...',\n",
       " 'the management teams at both mplx and andeavor logistics announced a move by the former to acquire the latter in an allstock deal. this will solidify and\\\\xa0...',\n",
       " 'the management teams at both mplx and andeavor logistics announced a move by the former to acquire the latter in an allstock deal. this will solidify and\\\\xa0...',\n",
       " 'allegheny technologies incorporated nyse: ati announced that at the conclusion of its 2019 annual meeting today, diane c. creel became independent\\\\xa0...',\n",
       " 'allegheny technologies incorporated nyse: ati announced that at the conclusion of its 2019 annual meeting today, diane c. creel became independent\\\\xa0...',\n",
       " 'allegheny technologies incorporated nyse: ati announced that at the conclusion of its 2019 annual meeting today, diane c. creel became independent\\\\xa0...',\n",
       " 'allegheny technologies incorporated nyse: ati announced that at the conclusion of its 2019 annual meeting today, diane c. creel became independent\\\\xa0...',\n",
       " 'pleasant hill, ca \\\\u2014 a brandnew burlington store is set to open next week in pleasant hill. the 31,000squarefoot store which offers brandname\\\\xa0...',\n",
       " 'pleasant hill, ca \\\\u2014 a brandnew burlington store is set to open next week in pleasant hill. the 31,000squarefoot store which offers brandname\\\\xa0...',\n",
       " 'pleasant hill, ca \\\\u2014 a brandnew burlington store is set to open next week in pleasant hill. the 31,000squarefoot store which offers brandname\\\\xa0...',\n",
       " 'pleasant hill, ca \\\\u2014 a brandnew burlington store is set to open next week in pleasant hill. the 31,000squarefoot store which offers brandname\\\\xa0...',\n",
       " 'tyson foods announced friday may 10 the expansion of its board of directors from 11 to 12 members with the addition of jonathan d. mariner. mariner, 64, is\\\\xa0...',\n",
       " 'tyson foods announced friday may 10 the expansion of its board of directors from 11 to 12 members with the addition of jonathan d. mariner. mariner, 64, is\\\\xa0...',\n",
       " 'tyson foods announced friday may 10 the expansion of its board of directors from 11 to 12 members with the addition of jonathan d. mariner. mariner, 64, is\\\\xa0...',\n",
       " 'tyson foods announced friday may 10 the expansion of its board of directors from 11 to 12 members with the addition of jonathan d. mariner. mariner, 64, is\\\\xa0...',\n",
       " 'singh will be replaced by former hortonworks ceo rob bearden, according to a press release. bearden was expected to leave his company after its merger\\\\xa0...',\n",
       " 'brazilian financial giant banco bradesco s.a. has agreed to buy bac florida bank ... to global solutions,\" bradesco ceo octavio de lazari said in the release.',\n",
       " 'brazilian financial giant banco bradesco s.a. has agreed to buy bac florida bank ... to global solutions,\" bradesco ceo octavio de lazari said in the release.',\n",
       " 'brazilian financial giant banco bradesco s.a. has agreed to buy bac florida bank ... to global solutions,\" bradesco ceo octavio de lazari said in the release.',\n",
       " 'brazilian financial giant banco bradesco s.a. has agreed to buy bac florida bank ... to global solutions,\" bradesco ceo octavio de lazari said in the release.',\n",
       " 'william royer was named managing director and chief compliance officer at alternatives money manager harbourvest partners, spokesman andrew hopkins\\\\xa0...',\n",
       " 'photo: david palmeri  head of global business services, jim fick  managing director for global operations and peter bankov  executive director of experian\\\\xa0...',\n",
       " 'photo: david palmeri  head of global business services, jim fick  managing director for global operations and peter bankov  executive director of experian\\\\xa0...',\n",
       " 'photo: david palmeri  head of global business services, jim fick  managing director for global operations and peter bankov  executive director of experian\\\\xa0...',\n",
       " 'photo: david palmeri  head of global business services, jim fick  managing director for global operations and peter bankov  executive director of experian\\\\xa0...',\n",
       " 'mumbai: jet airways india ltds top executive gaurang shetty, considered close to founder naresh goyal, has resigned from airlines board of directors, the\\\\xa0...',\n",
       " 'mumbai: jet airways india ltds top executive gaurang shetty, considered close to founder naresh goyal, has resigned from airlines board of directors, the\\\\xa0...',\n",
       " 'mumbai: jet airways india ltds top executive gaurang shetty, considered close to founder naresh goyal, has resigned from airlines board of directors, the\\\\xa0...',\n",
       " 'mumbai: jet airways india ltds top executive gaurang shetty, considered close to founder naresh goyal, has resigned from airlines board of directors, the\\\\xa0...',\n",
       " 'fluor corporation flr announced that a groundbreaking event was held today for bayers firstofakind cell culture technology center in berkeley, california.',\n",
       " 'we wish to inform you that esab holdings limited vide its letter dated 8 may, 2019 has withdrawn its nomination of mr. daniel alexis pryor din: 05305621 as\\\\xa0...',\n",
       " 'we wish to inform you that esab holdings limited vide its letter dated 8 may, 2019 has withdrawn its nomination of mr. daniel alexis pryor din: 05305621 as\\\\xa0...',\n",
       " 'we wish to inform you that esab holdings limited vide its letter dated 8 may, 2019 has withdrawn its nomination of mr. daniel alexis pryor din: 05305621 as\\\\xa0...',\n",
       " 'we wish to inform you that esab holdings limited vide its letter dated 8 may, 2019 has withdrawn its nomination of mr. daniel alexis pryor din: 05305621 as\\\\xa0...',\n",
       " 'tokyobusiness wire. toshiba electronic devices & storage corporation \"toshiba\" today launched \"tcd2569bfg,\" a lens reduction type, 5340pixel\\\\xa0...',\n",
       " 'global investment firm, the carlyle group nasdaq: cg and schneider electric se epa: su, the leader in the digital transformation of energy management\\\\xa0...',\n",
       " 'global investment firm, the carlyle group nasdaq: cg and schneider electric se epa: su, the leader in the digital transformation of energy management\\\\xa0...',\n",
       " 'global investment firm, the carlyle group nasdaq: cg and schneider electric se epa: su, the leader in the digital transformation of energy management\\\\xa0...',\n",
       " 'global investment firm, the carlyle group nasdaq: cg and schneider electric se epa: su, the leader in the digital transformation of energy management\\\\xa0...',\n",
       " 'harbourvest partners, a global private markets asset manager, has appointed bill royer as a managing director and will become chief compliance officer\\\\xa0...',\n",
       " 'harbourvest partners, a global private markets asset manager, has appointed bill royer as a managing director and will become chief compliance officer\\\\xa0...',\n",
       " 'harbourvest partners, a global private markets asset manager, has appointed bill royer as a managing director and will become chief compliance officer\\\\xa0...',\n",
       " 'harbourvest partners, a global private markets asset manager, has appointed bill royer as a managing director and will become chief compliance officer\\\\xa0...',\n",
       " 'stockholm reuters  swedish carmaker volvo, which is owned by chinas geely, is cutting several hundred jobs, swedish radio reported on friday citing\\\\xa0...',\n",
       " 'stockholm reuters  swedish carmaker volvo, which is owned by chinas geely, is cutting several hundred jobs, swedish radio reported on friday citing\\\\xa0...',\n",
       " 'stockholm reuters  swedish carmaker volvo, which is owned by chinas geely, is cutting several hundred jobs, swedish radio reported on friday citing\\\\xa0...',\n",
       " 'stockholm reuters  swedish carmaker volvo, which is owned by chinas geely, is cutting several hundred jobs, swedish radio reported on friday citing\\\\xa0...',\n",
       " 'basf announced jennie smith as the new greenhouse & nursery sales manager and biologicals team lead in the professional & specialty solutions group.',\n",
       " 'basf announced jennie smith as the new greenhouse & nursery sales manager and biologicals team lead in the professional & specialty solutions group.',\n",
       " 'basf announced jennie smith as the new greenhouse & nursery sales manager and biologicals team lead in the professional & specialty solutions group.',\n",
       " 'basf announced jennie smith as the new greenhouse & nursery sales manager and biologicals team lead in the professional & specialty solutions group.',\n",
       " 'klarna bank ab announced an agreement with alipay and adyen to use its pay later technology on aliexpress, the global ecommerce marketplace owned by\\\\xa0...',\n",
       " 'klarna bank ab announced an agreement with alipay and adyen to use its pay later technology on aliexpress, the global ecommerce marketplace owned by\\\\xa0...',\n",
       " 'klarna bank ab announced an agreement with alipay and adyen to use its pay later technology on aliexpress, the global ecommerce marketplace owned by\\\\xa0...',\n",
       " 'klarna bank ab announced an agreement with alipay and adyen to use its pay later technology on aliexpress, the global ecommerce marketplace owned by\\\\xa0...',\n",
       " 'pella corporation, a leading manufacturer of window and door products for residential and commercial use, will create 124 jobs at its new manufacturing facility\\\\xa0...',\n",
       " 'the mobile marketing industry is everchanging, and that applies to the people as much as the technology. movers & shakers is our regular feature following the\\\\xa0...',\n",
       " 'the mobile marketing industry is everchanging, and that applies to the people as much as the technology. movers & shakers is our regular feature following the\\\\xa0...',\n",
       " 'the mobile marketing industry is everchanging, and that applies to the people as much as the technology. movers & shakers is our regular feature following the\\\\xa0...',\n",
       " 'the mobile marketing industry is everchanging, and that applies to the people as much as the technology. movers & shakers is our regular feature following the\\\\xa0...',\n",
       " 'madrid reuters  the spanish arm of japanese carmaker nissan has reached an agreement with unions to cut 600 jobs at its plant in barcelona, or almost\\\\xa0...',\n",
       " 'offshore staff. perth, australia \\\\u2013 conocophillips australia has awarded technip oceania pty ltd. an epc contract to supply the subsea production system\\\\xa0...',\n",
       " 'offshore staff. perth, australia \\\\u2013 conocophillips australia has awarded technip oceania pty ltd. an epc contract to supply the subsea production system\\\\xa0...',\n",
       " 'offshore staff. perth, australia \\\\u2013 conocophillips australia has awarded technip oceania pty ltd. an epc contract to supply the subsea production system\\\\xa0...',\n",
       " 'offshore staff. perth, australia \\\\u2013 conocophillips australia has awarded technip oceania pty ltd. an epc contract to supply the subsea production system\\\\xa0...',\n",
       " 'greenwich \\\\u2014 the international brotherhood of teamsters union, a longtime critic of transportationandlogistics giant xpo logistics labor practices,\\\\xa0...',\n",
       " 'the food industry is becoming increasingly aware of the need to make its products healthier and more sustainable and is making gains, danone chairman and\\\\xa0...',\n",
       " 'based in west chester, pa., venture has underwriting alliances with global carrier groups, including allianz se, chubb, rsui, usli, zurich north america, state\\\\xa0...',\n",
       " 'based in west chester, pa., venture has underwriting alliances with global carrier groups, including allianz se, chubb, rsui, usli, zurich north america, state\\\\xa0...',\n",
       " 'based in west chester, pa., venture has underwriting alliances with global carrier groups, including allianz se, chubb, rsui, usli, zurich north america, state\\\\xa0...',\n",
       " 'based in west chester, pa., venture has underwriting alliances with global carrier groups, including allianz se, chubb, rsui, usli, zurich north america, state\\\\xa0...',\n",
       " 'toyota boshoku is to open an office in gurgaon city in the indian state of haryana for sales and development. \"we will enhance sales activities of our compact\\\\xa0...',\n",
       " 'members of wisekeys advisory committee originate from a wide variety of sectors that are of critical importance to wisekeys growth strategy, including\\\\xa0...',\n",
       " 'members of wisekeys advisory committee originate from a wide variety of sectors that are of critical importance to wisekeys growth strategy, including\\\\xa0...',\n",
       " 'members of wisekeys advisory committee originate from a wide variety of sectors that are of critical importance to wisekeys growth strategy, including\\\\xa0...',\n",
       " 'members of wisekeys advisory committee originate from a wide variety of sectors that are of critical importance to wisekeys growth strategy, including\\\\xa0...',\n",
       " 'angolan crude production has fallen by 200,000 b/d in the last year, with output averaging 1.44 million b/d this year, according to s&p global platts estimates.',\n",
       " 'angolan crude production has fallen by 200,000 b/d in the last year, with output averaging 1.44 million b/d this year, according to s&p global platts estimates.',\n",
       " 'angolan crude production has fallen by 200,000 b/d in the last year, with output averaging 1.44 million b/d this year, according to s&p global platts estimates.',\n",
       " 'angolan crude production has fallen by 200,000 b/d in the last year, with output averaging 1.44 million b/d this year, according to s&p global platts estimates.',\n",
       " 'last month, aeris resources ltd said it was unable to reach an agreement with glencore on its $575 million offer to buy the mine. the csa mine, which initially\\\\xa0...',\n",
       " 'last month, aeris resources ltd said it was unable to reach an agreement with glencore on its $575 million offer to buy the mine. the csa mine, which initially\\\\xa0...',\n",
       " 'last month, aeris resources ltd said it was unable to reach an agreement with glencore on its $575 million offer to buy the mine. the csa mine, which initially\\\\xa0...',\n",
       " 'last month, aeris resources ltd said it was unable to reach an agreement with glencore on its $575 million offer to buy the mine. the csa mine, which initially\\\\xa0...',\n",
       " 'an opening date has been set for the new upmc memorial hospital in york county. it will be aug. 18, 2019, according to a news release. upmc has begun the\\\\xa0...',\n",
       " 'an opening date has been set for the new upmc memorial hospital in york county. it will be aug. 18, 2019, according to a news release. upmc has begun the\\\\xa0...',\n",
       " 'an opening date has been set for the new upmc memorial hospital in york county. it will be aug. 18, 2019, according to a news release. upmc has begun the\\\\xa0...',\n",
       " 'an opening date has been set for the new upmc memorial hospital in york county. it will be aug. 18, 2019, according to a news release. upmc has begun the\\\\xa0...',\n",
       " 'tenneco inc. shares sank to their lowest level in nearly a decade after investors were alarmed by a trifecta of troubles announced by the auto supplier .',\n",
       " 'tenneco inc. shares sank to their lowest level in nearly a decade after investors were alarmed by a trifecta of troubles announced by the auto supplier .',\n",
       " 'tenneco inc. shares sank to their lowest level in nearly a decade after investors were alarmed by a trifecta of troubles announced by the auto supplier .',\n",
       " 'tenneco inc. shares sank to their lowest level in nearly a decade after investors were alarmed by a trifecta of troubles announced by the auto supplier .',\n",
       " 'the grundfos group has appointed ulrik gernow to the new position of chief marketing officer cmo. gernow will lead the global grundfos segment\\\\xa0...',\n",
       " 'facebooks vp of vr product hugo barra is out after some leadership changes at the top of the oculus organization. hell be stepping down into a new role\\\\xa0...',\n",
       " 'facebooks vp of vr product hugo barra is out after some leadership changes at the top of the oculus organization. hell be stepping down into a new role\\\\xa0...',\n",
       " 'facebooks vp of vr product hugo barra is out after some leadership changes at the top of the oculus organization. hell be stepping down into a new role\\\\xa0...',\n",
       " 'facebooks vp of vr product hugo barra is out after some leadership changes at the top of the oculus organization. hell be stepping down into a new role\\\\xa0...',\n",
       " 'this weeks executive shifts include new chief marketing officers for groupon, tourism australia, toms urban, sofi and hims. check out our careers section for\\\\xa0...',\n",
       " 'by the end of the year, clothing brand abercrombie & fitch hopes to have a new kidsfocused location at the opposite end of the tysons corner center mall.',\n",
       " 'by the end of the year, clothing brand abercrombie & fitch hopes to have a new kidsfocused location at the opposite end of the tysons corner center mall.',\n",
       " 'by the end of the year, clothing brand abercrombie & fitch hopes to have a new kidsfocused location at the opposite end of the tysons corner center mall.',\n",
       " 'by the end of the year, clothing brand abercrombie & fitch hopes to have a new kidsfocused location at the opposite end of the tysons corner center mall.',\n",
       " 'a week of success in abra! the noncustodial wallet introduces real digital asset withdrawals and partners with plaid, a fintech firm allowing bank withdrawals of\\\\xa0...',\n",
       " 'a week of success in abra! the noncustodial wallet introduces real digital asset withdrawals and partners with plaid, a fintech firm allowing bank withdrawals of\\\\xa0...',\n",
       " 'a week of success in abra! the noncustodial wallet introduces real digital asset withdrawals and partners with plaid, a fintech firm allowing bank withdrawals of\\\\xa0...',\n",
       " 'a week of success in abra! the noncustodial wallet introduces real digital asset withdrawals and partners with plaid, a fintech firm allowing bank withdrawals of\\\\xa0...',\n",
       " 'gulfstream aerospace corp. recently appointed mark bates as the general manager of its palm beach, florida, site at palm beach international airport.',\n",
       " 'gulfstream aerospace corp. recently appointed mark bates as the general manager of its palm beach, florida, site at palm beach international airport.',\n",
       " 'gulfstream aerospace corp. recently appointed mark bates as the general manager of its palm beach, florida, site at palm beach international airport.',\n",
       " 'gulfstream aerospace corp. recently appointed mark bates as the general manager of its palm beach, florida, site at palm beach international airport.',\n",
       " 'the federal reserve bank of new york is one of twelve regional reserve banks in the federal reserve system, an independent governmental entity created by\\\\xa0...',\n",
       " 'partnership to deliver a compelling combination of nextgeneration endpoint protection, threat intelligence and response services. crowdstrike inc., a\\\\xa0...',\n",
       " 'partnership to deliver a compelling combination of nextgeneration endpoint protection, threat intelligence and response services. crowdstrike inc., a\\\\xa0...',\n",
       " 'partnership to deliver a compelling combination of nextgeneration endpoint protection, threat intelligence and response services. crowdstrike inc., a\\\\xa0...',\n",
       " 'partnership to deliver a compelling combination of nextgeneration endpoint protection, threat intelligence and response services. crowdstrike inc., a\\\\xa0...',\n",
       " 'under armour inc. nyse: uaa unveiled its massive new 1.3 millionsquarefoot distribution warehouse wednesday at tradepoint atlantic, a facility ceo kevin\\\\xa0...',\n",
       " 'under armour inc. nyse: uaa unveiled its massive new 1.3 millionsquarefoot distribution warehouse wednesday at tradepoint atlantic, a facility ceo kevin\\\\xa0...',\n",
       " 'under armour inc. nyse: uaa unveiled its massive new 1.3 millionsquarefoot distribution warehouse wednesday at tradepoint atlantic, a facility ceo kevin\\\\xa0...',\n",
       " 'under armour inc. nyse: uaa unveiled its massive new 1.3 millionsquarefoot distribution warehouse wednesday at tradepoint atlantic, a facility ceo kevin\\\\xa0...',\n",
       " 'accor greater china has announced the opening of pullman shanghai qingpu excellence, the citys latest premium branded hotel designed for todays new\\\\xa0...',\n",
       " 'based mayo clinic health systemfranciscan healthcare plans to reduce staff and eliminate positions, according to according to a worker adjustment and\\\\xa0...',\n",
       " 'based mayo clinic health systemfranciscan healthcare plans to reduce staff and eliminate positions, according to according to a worker adjustment and\\\\xa0...',\n",
       " 'based mayo clinic health systemfranciscan healthcare plans to reduce staff and eliminate positions, according to according to a worker adjustment and\\\\xa0...',\n",
       " 'based mayo clinic health systemfranciscan healthcare plans to reduce staff and eliminate positions, according to according to a worker adjustment and\\\\xa0...',\n",
       " 'mckesson corp has appointed tracy faber to executive vice president and chief human resources officer, which will take effect in october. she will report to\\\\xa0...',\n",
       " 'succeeding the longtime boss is simon badley pictured, an aviva alumnus who is making the switch from australiaheadquartered tech firm iress where he\\\\xa0...',\n",
       " 'succeeding the longtime boss is simon badley pictured, an aviva alumnus who is making the switch from australiaheadquartered tech firm iress where he\\\\xa0...',\n",
       " 'succeeding the longtime boss is simon badley pictured, an aviva alumnus who is making the switch from australiaheadquartered tech firm iress where he\\\\xa0...',\n",
       " 'succeeding the longtime boss is simon badley pictured, an aviva alumnus who is making the switch from australiaheadquartered tech firm iress where he\\\\xa0...',\n",
       " 'the uk home office has published details of the changes to its contract with motorola solutions for the delivery of the emergency services network esn lot 2\\\\xa0...',\n",
       " 'the uk home office has published details of the changes to its contract with motorola solutions for the delivery of the emergency services network esn lot 2\\\\xa0...',\n",
       " 'the uk home office has published details of the changes to its contract with motorola solutions for the delivery of the emergency services network esn lot 2\\\\xa0...',\n",
       " 'the uk home office has published details of the changes to its contract with motorola solutions for the delivery of the emergency services network esn lot 2\\\\xa0...',\n",
       " 'tom atherton, dairy crest deputy chief executive and group finance director, has been appointed president and chief operating officer of saputos dairy division\\\\xa0...',\n",
       " 'lattice semiconductor corporation nasdaq:lscc files an 8k departure of directors or certain officers; election of directors; appointment of certain\\\\xa0...',\n",
       " 'lattice semiconductor corporation nasdaq:lscc files an 8k departure of directors or certain officers; election of directors; appointment of certain\\\\xa0...',\n",
       " 'lattice semiconductor corporation nasdaq:lscc files an 8k departure of directors or certain officers; election of directors; appointment of certain\\\\xa0...',\n",
       " 'lattice semiconductor corporation nasdaq:lscc files an 8k departure of directors or certain officers; election of directors; appointment of certain\\\\xa0...',\n",
       " 'earlystage venture capital firm orios venture partners has hired former snapdeal employee siddharth dhankhar to its team. anup jain, managing partner,\\\\xa0...',\n",
       " 'salt lake city \\\\u2014 tyson fresh meats, a subsidiary of tyson foods inc., will invest nearly $300 million to develop a food production plant in utah that will\\\\xa0...',\n",
       " 'salt lake city \\\\u2014 tyson fresh meats, a subsidiary of tyson foods inc., will invest nearly $300 million to develop a food production plant in utah that will\\\\xa0...',\n",
       " 'salt lake city \\\\u2014 tyson fresh meats, a subsidiary of tyson foods inc., will invest nearly $300 million to develop a food production plant in utah that will\\\\xa0...',\n",
       " 'salt lake city \\\\u2014 tyson fresh meats, a subsidiary of tyson foods inc., will invest nearly $300 million to develop a food production plant in utah that will\\\\xa0...',\n",
       " 'nutrien has faced questions and criticism about the location of its senior executives from the local business community and the provincial government since the\\\\xa0...',\n",
       " 'nutrien has faced questions and criticism about the location of its senior executives from the local business community and the provincial government since the\\\\xa0...',\n",
       " 'nutrien has faced questions and criticism about the location of its senior executives from the local business community and the provincial government since the\\\\xa0...',\n",
       " 'nutrien has faced questions and criticism about the location of its senior executives from the local business community and the provincial government since the\\\\xa0...',\n",
       " 'chinas cimc raffles has confirmed it has signed a twoyear contract with cnooc for the lease of the giant ultradeepwater semisubmersible drilling rig, the\\\\xa0...',\n",
       " 'chinas cimc raffles has confirmed it has signed a twoyear contract with cnooc for the lease of the giant ultradeepwater semisubmersible drilling rig, the\\\\xa0...',\n",
       " 'chinas cimc raffles has confirmed it has signed a twoyear contract with cnooc for the lease of the giant ultradeepwater semisubmersible drilling rig, the\\\\xa0...',\n",
       " 'chinas cimc raffles has confirmed it has signed a twoyear contract with cnooc for the lease of the giant ultradeepwater semisubmersible drilling rig, the\\\\xa0...',\n",
       " 'upwork inc. nasd: upwk announced adam ozimek as its chief economist, ... staffing software provider bullhorn promoted gretchen keefner and shaun\\\\xa0...',\n",
       " 'upwork inc. nasd: upwk announced adam ozimek as its chief economist, ... staffing software provider bullhorn promoted gretchen keefner and shaun\\\\xa0...',\n",
       " 'upwork inc. nasd: upwk announced adam ozimek as its chief economist, ... staffing software provider bullhorn promoted gretchen keefner and shaun\\\\xa0...',\n",
       " 'upwork inc. nasd: upwk announced adam ozimek as its chief economist, ... staffing software provider bullhorn promoted gretchen keefner and shaun\\\\xa0...',\n",
       " 'on semiconductor corporation nasdaq: on, driving energy efficient innovations, is pleased to announce the appointment of mamoon rashid, senior vice\\\\xa0...',\n",
       " 'on semiconductor corporation nasdaq: on, driving energy efficient innovations, is pleased to announce the appointment of mamoon rashid, senior vice\\\\xa0...',\n",
       " 'on semiconductor corporation nasdaq: on, driving energy efficient innovations, is pleased to announce the appointment of mamoon rashid, senior vice\\\\xa0...',\n",
       " 'on semiconductor corporation nasdaq: on, driving energy efficient innovations, is pleased to announce the appointment of mamoon rashid, senior vice\\\\xa0...',\n",
       " 'dublin, ca \\\\u2014 kaiser permanente is holding an open house saturday at its new dublin medical offices and cancer center, and the community is invited to\\\\xa0...',\n",
       " 'dublin, ca \\\\u2014 kaiser permanente is holding an open house saturday at its new dublin medical offices and cancer center, and the community is invited to\\\\xa0...',\n",
       " 'dublin, ca \\\\u2014 kaiser permanente is holding an open house saturday at its new dublin medical offices and cancer center, and the community is invited to\\\\xa0...',\n",
       " 'dublin, ca \\\\u2014 kaiser permanente is holding an open house saturday at its new dublin medical offices and cancer center, and the community is invited to\\\\xa0...',\n",
       " 'altran collaborates with siemens to develop innovative connected engineering solutions on mindsphere. altran, a global leader in engineering and r&d\\\\xa0...',\n",
       " 'altran collaborates with siemens to develop innovative connected engineering solutions on mindsphere. altran, a global leader in engineering and r&d\\\\xa0...',\n",
       " 'altran collaborates with siemens to develop innovative connected engineering solutions on mindsphere. altran, a global leader in engineering and r&d\\\\xa0...',\n",
       " 'altran collaborates with siemens to develop innovative connected engineering solutions on mindsphere. altran, a global leader in engineering and r&d\\\\xa0...',\n",
       " 'netflix has agreed to acquire storybots, the company behind the original netflix childrens series \"ask the storybots.\" storybots was founded by gregg and evan\\\\xa0...',\n",
       " 'netflix has agreed to acquire storybots, the company behind the original netflix childrens series \"ask the storybots.\" storybots was founded by gregg and evan\\\\xa0...',\n",
       " 'netflix has agreed to acquire storybots, the company behind the original netflix childrens series \"ask the storybots.\" storybots was founded by gregg and evan\\\\xa0...',\n",
       " 'netflix has agreed to acquire storybots, the company behind the original netflix childrens series \"ask the storybots.\" storybots was founded by gregg and evan\\\\xa0...',\n",
       " 'the 27year industry veteran registered with lpl financial on tuesday. ... 2008, left last friday to join the employee channel of ameriprise financial services.',\n",
       " 'london, paris and houston \\\\u2013 technipfmc has been awarded an integrated engineering, procurement, construction and installation contract by bp for the\\\\xa0...',\n",
       " 'london, paris and houston \\\\u2013 technipfmc has been awarded an integrated engineering, procurement, construction and installation contract by bp for the\\\\xa0...',\n",
       " 'london, paris and houston \\\\u2013 technipfmc has been awarded an integrated engineering, procurement, construction and installation contract by bp for the\\\\xa0...',\n",
       " 'london, paris and houston \\\\u2013 technipfmc has been awarded an integrated engineering, procurement, construction and installation contract by bp for the\\\\xa0...',\n",
       " 'joseph p. lacher jr. has served as president and chief executive officer of kemper corporation nyse:kmpr since november 2015. he previously served in\\\\xa0...',\n",
       " 'joseph p. lacher jr. has served as president and chief executive officer of kemper corporation nyse:kmpr since november 2015. he previously served in\\\\xa0...',\n",
       " 'joseph p. lacher jr. has served as president and chief executive officer of kemper corporation nyse:kmpr since november 2015. he previously served in\\\\xa0...',\n",
       " 'joseph p. lacher jr. has served as president and chief executive officer of kemper corporation nyse:kmpr since november 2015. he previously served in\\\\xa0...',\n",
       " 'answer to climate change will be found in labs, exxon mobil ceo says ... exxon is contributing as much as $10 million a year to the effort, or the equivalent of\\\\xa0...',\n",
       " 'product & logistics services llc p&ls, a subsidiary of schlumberger limited, is ceasing operations at its facility in the permian basin, resulting in layoffs of\\\\xa0...',\n",
       " 'novo nordisk becomes longest running continued title sponsor of an american team with commitment to team novo nordisk through 2020\\\\xa0...',\n",
       " 'novo nordisk becomes longest running continued title sponsor of an american team with commitment to team novo nordisk through 2020\\\\xa0...',\n",
       " 'novo nordisk becomes longest running continued title sponsor of an american team with commitment to team novo nordisk through 2020\\\\xa0...',\n",
       " 'novo nordisk becomes longest running continued title sponsor of an american team with commitment to team novo nordisk through 2020\\\\xa0...',\n",
       " 'lr rdbs deputy chief executive officer, emmanuel hategeka, ict minister, paula musoni and yuval hanan from motorola sign the agreement in kigali.',\n",
       " 'lr rdbs deputy chief executive officer, emmanuel hategeka, ict minister, paula musoni and yuval hanan from motorola sign the agreement in kigali.',\n",
       " 'lr rdbs deputy chief executive officer, emmanuel hategeka, ict minister, paula musoni and yuval hanan from motorola sign the agreement in kigali.',\n",
       " 'lr rdbs deputy chief executive officer, emmanuel hategeka, ict minister, paula musoni and yuval hanan from motorola sign the agreement in kigali.',\n",
       " 'may 7, 2019 / przen / frisco, texas  sage it today announced its partnership with google apigee to provide consulting and delivery services for google\\\\xa0...',\n",
       " 'may 7, 2019 / przen / frisco, texas  sage it today announced its partnership with google apigee to provide consulting and delivery services for google\\\\xa0...',\n",
       " 'may 7, 2019 / przen / frisco, texas  sage it today announced its partnership with google apigee to provide consulting and delivery services for google\\\\xa0...',\n",
       " 'may 7, 2019 / przen / frisco, texas  sage it today announced its partnership with google apigee to provide consulting and delivery services for google\\\\xa0...',\n",
       " 'atif rafiq, president of commercial and growth, mgm resorts international former cdo, volvo cars named u.s. chief digital officer of the year 2019 by cdo\\\\xa0...',\n",
       " 'according to details of the memorandum of understanding signed between basf, one of the worlds leading chemical companies, ipr consulting establishment\\\\xa0...',\n",
       " 'according to details of the memorandum of understanding signed between basf, one of the worlds leading chemical companies, ipr consulting establishment\\\\xa0...',\n",
       " 'according to details of the memorandum of understanding signed between basf, one of the worlds leading chemical companies, ipr consulting establishment\\\\xa0...',\n",
       " 'according to details of the memorandum of understanding signed between basf, one of the worlds leading chemical companies, ipr consulting establishment\\\\xa0...',\n",
       " 'zoetis, an animal health company in parsippany, n.j., has become the first humananimal bond certified company. the certification program was founded last\\\\xa0...',\n",
       " 'zoetis, an animal health company in parsippany, n.j., has become the first humananimal bond certified company. the certification program was founded last\\\\xa0...',\n",
       " 'zoetis, an animal health company in parsippany, n.j., has become the first humananimal bond certified company. the certification program was founded last\\\\xa0...',\n",
       " 'zoetis, an animal health company in parsippany, n.j., has become the first humananimal bond certified company. the certification program was founded last\\\\xa0...',\n",
       " 'alan feldman, who spent 29 years as a senior executive with mgm resorts international and its predecessor companies and was one of the leaders in\\\\xa0...',\n",
       " 'alan feldman, who spent 29 years as a senior executive with mgm resorts international and its predecessor companies and was one of the leaders in\\\\xa0...',\n",
       " 'alan feldman, who spent 29 years as a senior executive with mgm resorts international and its predecessor companies and was one of the leaders in\\\\xa0...',\n",
       " 'alan feldman, who spent 29 years as a senior executive with mgm resorts international and its predecessor companies and was one of the leaders in\\\\xa0...',\n",
       " 'dubai \\\\u2013 leading global professional services firm alvarez & marsal a&m further expands its middle east senior advisory team with the appointment of ray\\\\xa0...',\n",
       " 'dubai \\\\u2013 leading global professional services firm alvarez & marsal a&m further expands its middle east senior advisory team with the appointment of ray\\\\xa0...',\n",
       " 'dubai \\\\u2013 leading global professional services firm alvarez & marsal a&m further expands its middle east senior advisory team with the appointment of ray\\\\xa0...',\n",
       " 'dubai \\\\u2013 leading global professional services firm alvarez & marsal a&m further expands its middle east senior advisory team with the appointment of ray\\\\xa0...',\n",
       " 'madrid \\\\u2014 another dollar general store will soon open in st. lawrence county. developers have broken ground on a new dollar general south of the four\\\\xa0...',\n",
       " 'madrid \\\\u2014 another dollar general store will soon open in st. lawrence county. developers have broken ground on a new dollar general south of the four\\\\xa0...',\n",
       " 'madrid \\\\u2014 another dollar general store will soon open in st. lawrence county. developers have broken ground on a new dollar general south of the four\\\\xa0...',\n",
       " 'madrid \\\\u2014 another dollar general store will soon open in st. lawrence county. developers have broken ground on a new dollar general south of the four\\\\xa0...',\n",
       " 'reuters  citigroup inc said on friday that its investor relations head will become chief financial officer of its consumer banking unit. susan kendall, who has\\\\xa0...',\n",
       " 'reuters  citigroup inc said on friday that its investor relations head will become chief financial officer of its consumer banking unit. susan kendall, who has\\\\xa0...',\n",
       " 'reuters  citigroup inc said on friday that its investor relations head will become chief financial officer of its consumer banking unit. susan kendall, who has\\\\xa0...',\n",
       " 'reuters  citigroup inc said on friday that its investor relations head will become chief financial officer of its consumer banking unit. susan kendall, who has\\\\xa0...',\n",
       " 'salt lake city, may 09, 2019 globe newswire  overstock.com, inc. ostk announces dave nielsens appointment to president of overstock.coms\\\\xa0...',\n",
       " 'tork motorcycles appoints exyamaha head of sales and marketing ... of sales and marketing at india yamaha motor when he quit on january 31 this year. ... forging company coming on board as a strategic partner in early 2018, tork motors\\\\xa0...',\n",
       " 'tork motorcycles appoints exyamaha head of sales and marketing ... of sales and marketing at india yamaha motor when he quit on january 31 this year. ... forging company coming on board as a strategic partner in early 2018, tork motors\\\\xa0...',\n",
       " 'tork motorcycles appoints exyamaha head of sales and marketing ... of sales and marketing at india yamaha motor when he quit on january 31 this year. ... forging company coming on board as a strategic partner in early 2018, tork motors\\\\xa0...',\n",
       " 'tork motorcycles appoints exyamaha head of sales and marketing ... of sales and marketing at india yamaha motor when he quit on january 31 this year. ... forging company coming on board as a strategic partner in early 2018, tork motors\\\\xa0...',\n",
       " 'this partnership is in line with cocacolas approach to continually engage the right stakeholders to ensure the company is responsive and collaborative in its\\\\xa0...',\n",
       " 'this partnership is in line with cocacolas approach to continually engage the right stakeholders to ensure the company is responsive and collaborative in its\\\\xa0...',\n",
       " 'this partnership is in line with cocacolas approach to continually engage the right stakeholders to ensure the company is responsive and collaborative in its\\\\xa0...',\n",
       " 'this partnership is in line with cocacolas approach to continually engage the right stakeholders to ensure the company is responsive and collaborative in its\\\\xa0...',\n",
       " 'google, infor, ibs software, yottabyte, oracle, beck technology, qumulo, accenture, among others, announced their latest it deals or technology deployments\\\\xa0...',\n",
       " 'global automation company fanuc has shared plans for expansion of its uk headquarters during a visit from west midlands mayor andy street. tom bouchier\\\\xa0...',\n",
       " 'kia motors is gearing up to set up shop in india. the korean carmaker has made a significant investment in the indian market, setting up a new manufacturing\\\\xa0...',\n",
       " 'cambridge, ma\\\\u2013agios pharmaceuticals, inc., a leader in the field of cellular metabolism to treat cancer and rare genetic diseases, has leased 13,000 square\\\\xa0...',\n",
       " 'construction will begin in the next month to transform a former auto parts shop into a grocery store in burlingtons old north end. the business at 242 north\\\\xa0...',\n",
       " 'the mj 9390 foundation announced a new best buy teen tech center will soon open up in selma on tuesday morning in the community room at trustmark\\\\xa0...',\n",
       " 'warsaw reuters  polands jsw, the european unions biggest coking coal producer, does not expect coal orders from major client arcelormittal to fall\\\\xa0...',\n",
       " 'under the agreement, gardner denver becomes an authorized distributor of kennametals innovative, longlasting seats for hydraulic fracturing operations; solid\\\\xa0...',\n",
       " 'windstream holdings, inc. win, a fortune 500 company, is a leading provider of advanced network communications and technology solutions. windstream\\\\xa0...',\n",
       " 'blockchain consortium r3 and global it leader wipro limited have developed a blockchain solution prototype to enable digital currency for interbank\\\\xa0...',\n",
       " 'in austin, dnata will handle lufthansas new frankfurt flight, which the airline ... deutsche lufthansa ag is bidding for the german airline of tour operator thomas\\\\xa0...',\n",
       " 'fastweb and infinera successfully complete 500g singlewavelength ... infinera and the infinera logo are registered trademarks of infinera corporation.',\n",
       " 'another senior equities trader at jpmorgan has left for citigroup. jitendra jaisinghani, a senior trader in jpmorgans prime services unit, has left to join citigroup\\\\xa0...',\n",
       " 'may 7 reuters  borgwarner inc said on tuesday it would take a 20 percent stake for an undisclosed amount in battery module and pack supplier romeo\\\\xa0...',\n",
       " 'once operational, enels 400mw project is poised to energise an already growing chilean pv scene. at 2.13gw last year, the country is in latin americas top\\\\xa0...',\n",
       " 'recently, china telecom and huawei jointly completed the worlds first voice ... senior marketing manager, cloud core product line, huawei technologies co.',\n",
       " 'giving cell therapy unit kite autonomy will \\\\u201cfoster agility, innovation and entrepreneurialism,\\\\u201d says recently appointed gilead ceo daniel oday. gilead\\\\xa0...',\n",
       " 'chicagobased conagra brands in january said it was exploring strategic alternatives for the business. over the past few years, under the leadership of\\\\xa0...',\n",
       " 'new delhi: countrys largest twowheeler maker hero motocorp has announced changes at the key positions in sales and service division. a srinivasu has\\\\xa0...',\n",
       " 'liver therapy forum digest provide an overview of whats happening in the nash landscape in 2019. this week focuses on bristolmyers squibb. in q1 2019\\\\xa0...',\n",
       " 'johnson controls power solutions has sold off its automotive battery business to brookfield business partners for $13.2 billion. that includes its more than\\\\xa0...',\n",
       " 'new york city \\\\u2014 cbre has negotiated a 241,657squarefoot office lease restructuring for global household products provider colgatepalmolive co. at 300\\\\xa0...',\n",
       " 'on the occasion of the 5th united nations road safety week, essilor and groupe ... essilor international is the worlds leading ophthalmic optics company.',\n",
       " 'taipei, may 6 cna hon hai precision industry co. chairman terry gou ???, who is making a bid for president of taiwan, will step back from the daily\\\\xa0...',\n",
       " 'duesseldorf, germany reuters  thyssenkrupp said on sunday it still saw scope for agreement with european antitrust regulators on a planned joint\\\\xa0...',\n",
       " 'wireless telecoms operator sk telecom and the yonsei university health system yuhs signed the memorandum of understanding on april 26, 2019.',\n",
       " 'more than three quarters of bemis shareholders have voted in favour of the companys acquisition by amcor. the vote took place yesterday at a special meeting\\\\xa0...',\n",
       " 'new bedford \\\\u2014 owners of dnb burgers on elm street are working on opening a new seafood restaurant on union street, hopefully by the summer. owners\\\\xa0...',\n",
       " 'nokia recently announced that it has signed a strategic mou with faw group, the chinese stateowned automotive manufacturing company. together they will\\\\xa0...',\n",
       " 'allete clean energy recently announced that it acquired the up to 303megawatt mw diamond spring wind project located in oklahoma from apex clean\\\\xa0...',\n",
       " 'marvell technology group ltd. is acquiring all outstanding shares of aquantia and extending its reach into the multigig 2.5g/5g/10g ethernet segments.',\n",
       " 'life sciences giant bayer has joined forces with clinical ai technology company sensyne health to help develop a national linked patient data capability.',\n",
       " 'hindalco industries ltd, ball beverage packaging india pvt ltd and canpack india pvt ltd are launching a consortium called aluminium beverages can\\\\xa0...',\n",
       " 'insurance provider emblemhealth inked a deal to keep its 440,000 square foot offices at 55 water street for another 15 years, brokers on the deal confirmed.',\n",
       " 'wipro limited nyse: wit, bse: 507685, nse: wipro, a leading global information technology, consulting, and business process services company, today\\\\xa0...',\n",
       " 'wipro limited nyse: wit, bse: 507685, nse: wipro, a leading global information technology, consulting, and business process services company, today\\\\xa0...',\n",
       " 'wipro limited nyse: wit, bse: 507685, nse: wipro, a leading global information technology, consulting, and business process services company, today\\\\xa0...',\n",
       " 'wipro limited nyse: wit, bse: 507685, nse: wipro, a leading global information technology, consulting, and business process services company, today\\\\xa0...',\n",
       " 'campbell soup is reportedly looking to sell its kettle chips brand, according to u.k.based news agency the press association. the company acquired the\\\\xa0...',\n",
       " 'part of mars, incorporated, a familyowned business with more than a century of history making diverse products and offering services for people and the pets\\\\xa0...',\n",
       " 'oxy jazzes up anadarko offer, makes $8b total deal ... petroleum corporation apc and agreed a deal to sell apcs africa assets to total s.a. for $8.8 billion.',\n",
       " 'new yorkbased mount sinai health system is forming what officials called a \"cooperative partnership\" with holy name medical center in bergen county, new\\\\xa0...',\n",
       " 'conagra brands has entered into an agreement to divest its italybased frozen pasta business gelit to a group of italian investors. chicagoheadquartered\\\\xa0...',\n",
       " 'total sa fp.fr said tuesday that it has agreed to buy anadarko petroleum corp.s apc, +3.81% assets in africa for $8.8 billion if occidental petroleum corp.',\n",
       " 'austin, texas & sydneybusiness wiremay 6, 2019award winning aipowered energy analytics company grid4c has partnered with landis+gyr,\\\\xa0...',\n",
       " 'brunswick corp. has agreed to sell its life fitness exercise equipment division to new york private equity firm kps capital partners for $490 million. the deal\\\\xa0...',\n",
       " 'parisbusiness wireregulatory news: the share purchase agreement signed by air liquide paris:al on march 11th 2019 with an investment service\\\\xa0...',\n",
       " 'a subsidiary of houstonbased pipeline operator kinder morgan has signed a deal that will allow it to supply greater volumes of natural gas to upstate new york.',\n",
       " 'amgen, through its venture fund, previously participated in syapses $30 million series d round alongside the corporate financing arms of merck and roche.',\n",
       " 'thermo fisher scientific will take over cannondesigns headquarters on grand island after the nationally known architecture firm completes its move to\\\\xa0...',\n",
       " 'new york, may 2, 2019 /prnewswire/  cit group inc. nyse: cit, in partnership with the nonprofit operation hope, today introduced the next facet of its\\\\xa0...',\n",
       " 'ford is teaming up with amazon to bring its key by amazon incar delivery service to eligible ford and lincoln vehicles via ford motor company\\\\xa0...',\n",
       " 'tata motors on april 29 said it has tied up with nirma university to provide b.tech degree to its employees working at the sanand plant in gujarat. aligned with\\\\xa0...',\n",
       " 'thyssenkrupp has said it expects its proposed steel merger with tata steel to be blocked by the european commission over competition concerns. the deal\\\\xa0...',\n",
       " 'germany based thyssenkrupp otcpk:tyekf +22.9% said it had abandoned plans to merge its steel business in europe with the tata group, because of\\\\xa0...',\n",
       " 'chicago, may 7, 2019 /prnewswire/  hub international limited hub, a leading global insurance brokerage, announced today that it has acquired the\\\\xa0...',\n",
       " 'insurance brokerage firm hub international has acquired the assets of rhode islandbased rims insurance brokerage for an undisclosed amount.',\n",
       " 'south indian bank recruitment 2019: south indian bank has issued a recruitment notification inviting application for 14 posts of probationary manager it,\\\\xa0...',\n",
       " 'media company tegna is in the process of acquiring 24/7 multicast networks justice network and quest from cooper media. tegna will pay about us$77 million\\\\xa0...',\n",
       " 'meritor, inc. mtor is set to acquire axletech, a troy, mibased company that engages in designing, manufacturing, and selling of drivetrain systems and\\\\xa0...',\n",
       " 'meritor, inc. mtor is set to acquire axletech, a troy, mibased company that engages in designing, manufacturing, and selling of drivetrain systems and\\\\xa0...',\n",
       " 'meritor, inc. mtor is set to acquire axletech, a troy, mibased company that engages in designing, manufacturing, and selling of drivetrain systems and\\\\xa0...',\n",
       " 'meritor, inc. mtor is set to acquire axletech, a troy, mibased company that engages in designing, manufacturing, and selling of drivetrain systems and\\\\xa0...',\n",
       " 'eaton \\\\u2014 the 911 dispatch merger between the city of eaton and preble county was supposed to go live this past week, but due to delays with data\\\\xa0...',\n",
       " 'eaton \\\\u2014 the 911 dispatch merger between the city of eaton and preble county was supposed to go live this past week, but due to delays with data\\\\xa0...',\n",
       " 'eaton \\\\u2014 the 911 dispatch merger between the city of eaton and preble county was supposed to go live this past week, but due to delays with data\\\\xa0...',\n",
       " 'eaton \\\\u2014 the 911 dispatch merger between the city of eaton and preble county was supposed to go live this past week, but due to delays with data\\\\xa0...',\n",
       " 'dbs chief information officer and group head of operations david gledhill is departing the bank to return to the uk, the business times bt understands.',\n",
       " 'dbs chief information officer and group head of operations david gledhill is departing the bank to return to the uk, the business times bt understands.',\n",
       " 'dbs chief information officer and group head of operations david gledhill is departing the bank to return to the uk, the business times bt understands.',\n",
       " 'dbs chief information officer and group head of operations david gledhill is departing the bank to return to the uk, the business times bt understands.',\n",
       " 'swinburne university of technology has built on its ongoing partnership with bendigo and adelaide bank to develop and deliver a master of financial\\\\xa0...',\n",
       " 'swinburne university of technology has built on its ongoing partnership with bendigo and adelaide bank to develop and deliver a master of financial\\\\xa0...',\n",
       " 'swinburne university of technology has built on its ongoing partnership with bendigo and adelaide bank to develop and deliver a master of financial\\\\xa0...',\n",
       " 'swinburne university of technology has built on its ongoing partnership with bendigo and adelaide bank to develop and deliver a master of financial\\\\xa0...',\n",
       " 'karnataka bank limited has promoted two of its general managers, balachandra yv and gokuldas pai, as chief operating officer coo and chief business\\\\xa0...',\n",
       " 'karnataka bank limited has promoted two of its general managers, balachandra yv and gokuldas pai, as chief operating officer coo and chief business\\\\xa0...',\n",
       " 'karnataka bank limited has promoted two of its general managers, balachandra yv and gokuldas pai, as chief operating officer coo and chief business\\\\xa0...',\n",
       " 'karnataka bank limited has promoted two of its general managers, balachandra yv and gokuldas pai, as chief operating officer coo and chief business\\\\xa0...',\n",
       " 'digital realty has opened its second data center on the profile park campus in dublin, ireland. the 5mw facility is located 30 minutes west of the city center, and\\\\xa0...',\n",
       " 'digital realty has opened its second data center on the profile park campus in dublin, ireland. the 5mw facility is located 30 minutes west of the city center, and\\\\xa0...',\n",
       " 'digital realty has opened its second data center on the profile park campus in dublin, ireland. the 5mw facility is located 30 minutes west of the city center, and\\\\xa0...',\n",
       " 'digital realty has opened its second data center on the profile park campus in dublin, ireland. the 5mw facility is located 30 minutes west of the city center, and\\\\xa0...',\n",
       " 'pioneer, dsk act japans dic corp buy of maharashtra resins maker ideal chemi ... \\\\u201cjapans largest ink manufacturer by revenue dic corporation has acquired\\\\xa0...',\n",
       " 'pioneer, dsk act japans dic corp buy of maharashtra resins maker ideal chemi ... \\\\u201cjapans largest ink manufacturer by revenue dic corporation has acquired\\\\xa0...',\n",
       " 'pioneer, dsk act japans dic corp buy of maharashtra resins maker ideal chemi ... \\\\u201cjapans largest ink manufacturer by revenue dic corporation has acquired\\\\xa0...',\n",
       " 'pioneer, dsk act japans dic corp buy of maharashtra resins maker ideal chemi ... \\\\u201cjapans largest ink manufacturer by revenue dic corporation has acquired\\\\xa0...',\n",
       " 'as recorded through the past nine days, wec energy group, inc. nyse: wec stock has managed to produce a historic volatility measurement of 14.98%.',\n",
       " 'as recorded through the past nine days, wec energy group, inc. nyse: wec stock has managed to produce a historic volatility measurement of 14.98%.',\n",
       " 'as recorded through the past nine days, wec energy group, inc. nyse: wec stock has managed to produce a historic volatility measurement of 14.98%.',\n",
       " 'as recorded through the past nine days, wec energy group, inc. nyse: wec stock has managed to produce a historic volatility measurement of 14.98%.',\n",
       " 'the board of the commonwealth bank of australia announces that sir david higgins will retire as a nonexecutive director on 31 december 2019.',\n",
       " 'the board of the commonwealth bank of australia announces that sir david higgins will retire as a nonexecutive director on 31 december 2019.',\n",
       " 'the board of the commonwealth bank of australia announces that sir david higgins will retire as a nonexecutive director on 31 december 2019.',\n",
       " 'the board of the commonwealth bank of australia announces that sir david higgins will retire as a nonexecutive director on 31 december 2019.',\n",
       " 'descartes systems group nasdaq: dsgx announced that it has acquired core transport technologies nz limited core, an electronic transportation\\\\xa0...',\n",
       " 'descartes systems group nasdaq: dsgx announced that it has acquired core transport technologies nz limited core, an electronic transportation\\\\xa0...',\n",
       " 'descartes systems group nasdaq: dsgx announced that it has acquired core transport technologies nz limited core, an electronic transportation\\\\xa0...',\n",
       " 'descartes systems group nasdaq: dsgx announced that it has acquired core transport technologies nz limited core, an electronic transportation\\\\xa0...',\n",
       " 'tokyobusiness wiremitsubishi electric corporation tokyo:6503 announced today that it will acquire the remaining shares of iconics, inc., a u.s.\\\\xa0...',\n",
       " 'tokyobusiness wiremitsubishi electric corporation tokyo:6503 announced today that it will acquire the remaining shares of iconics, inc., a u.s.\\\\xa0...',\n",
       " 'tokyobusiness wiremitsubishi electric corporation tokyo:6503 announced today that it will acquire the remaining shares of iconics, inc., a u.s.\\\\xa0...',\n",
       " 'tokyobusiness wiremitsubishi electric corporation tokyo:6503 announced today that it will acquire the remaining shares of iconics, inc., a u.s.\\\\xa0...',\n",
       " 'may 10 renewables now  danish wind turbine maker vestas wind systems a/s cph:vws announced on thursday it has received a wind turbine supply\\\\xa0...',\n",
       " 'may 10 renewables now  danish wind turbine maker vestas wind systems a/s cph:vws announced on thursday it has received a wind turbine supply\\\\xa0...',\n",
       " 'may 10 renewables now  danish wind turbine maker vestas wind systems a/s cph:vws announced on thursday it has received a wind turbine supply\\\\xa0...',\n",
       " 'may 10 renewables now  danish wind turbine maker vestas wind systems a/s cph:vws announced on thursday it has received a wind turbine supply\\\\xa0...',\n",
       " 'basf se ludwigshafen, germany; www.basf.com and lactips saintjeanbonnefonds, france; www.lactips.com signed an exclusive contract to market\\\\xa0...',\n",
       " 'basf se ludwigshafen, germany; www.basf.com and lactips saintjeanbonnefonds, france; www.lactips.com signed an exclusive contract to market\\\\xa0...',\n",
       " 'basf se ludwigshafen, germany; www.basf.com and lactips saintjeanbonnefonds, france; www.lactips.com signed an exclusive contract to market\\\\xa0...',\n",
       " 'basf se ludwigshafen, germany; www.basf.com and lactips saintjeanbonnefonds, france; www.lactips.com signed an exclusive contract to market\\\\xa0...',\n",
       " 'agreement covers about 1,500 employees in three states. dallas, may 12, 2019 /prnewswire/  at&t* today announced that it has reached a tentative\\\\xa0...',\n",
       " 'agreement covers about 1,500 employees in three states. dallas, may 12, 2019 /prnewswire/  at&t* today announced that it has reached a tentative\\\\xa0...',\n",
       " 'agreement covers about 1,500 employees in three states. dallas, may 12, 2019 /prnewswire/  at&t* today announced that it has reached a tentative\\\\xa0...',\n",
       " 'agreement covers about 1,500 employees in three states. dallas, may 12, 2019 /prnewswire/  at&t* today announced that it has reached a tentative\\\\xa0...',\n",
       " '... the life of john r. dimatteo, a prominent portland business leader who served as president of the guy gannett publishing co. for 13 years. mr. dimatteo was a\\\\xa0...',\n",
       " '... the life of john r. dimatteo, a prominent portland business leader who served as president of the guy gannett publishing co. for 13 years. mr. dimatteo was a\\\\xa0...',\n",
       " '... the life of john r. dimatteo, a prominent portland business leader who served as president of the guy gannett publishing co. for 13 years. mr. dimatteo was a\\\\xa0...',\n",
       " '... the life of john r. dimatteo, a prominent portland business leader who served as president of the guy gannett publishing co. for 13 years. mr. dimatteo was a\\\\xa0...',\n",
       " 'tokyo  japanese industrial robot maker fanuc plans to spend 3.5 billion yen $28.3 million on a new plant it hopes will help it capture business opportunities\\\\xa0...',\n",
       " 'tokyo  japanese industrial robot maker fanuc plans to spend 3.5 billion yen $28.3 million on a new plant it hopes will help it capture business opportunities\\\\xa0...',\n",
       " 'tokyo  japanese industrial robot maker fanuc plans to spend 3.5 billion yen $28.3 million on a new plant it hopes will help it capture business opportunities\\\\xa0...',\n",
       " 'tokyo  japanese industrial robot maker fanuc plans to spend 3.5 billion yen $28.3 million on a new plant it hopes will help it capture business opportunities\\\\xa0...',\n",
       " 'gamestop appoints raul fernandes, owner the nbas washington wizards and lizabeth dunn, ceo of pro4ma inc, technology services consulting firm, to its\\\\xa0...',\n",
       " 'gamestop appoints raul fernandes, owner the nbas washington wizards and lizabeth dunn, ceo of pro4ma inc, technology services consulting firm, to its\\\\xa0...',\n",
       " 'gamestop appoints raul fernandes, owner the nbas washington wizards and lizabeth dunn, ceo of pro4ma inc, technology services consulting firm, to its\\\\xa0...',\n",
       " 'gamestop appoints raul fernandes, owner the nbas washington wizards and lizabeth dunn, ceo of pro4ma inc, technology services consulting firm, to its\\\\xa0...',\n",
       " 'lotte chemical corp., a petrochemical company under south koreas fifthlargest conglomerate lotte group, has completed construction of its new ethane\\\\xa0...',\n",
       " 'lotte chemical corp., a petrochemical company under south koreas fifthlargest conglomerate lotte group, has completed construction of its new ethane\\\\xa0...',\n",
       " 'lotte chemical corp., a petrochemical company under south koreas fifthlargest conglomerate lotte group, has completed construction of its new ethane\\\\xa0...',\n",
       " 'lotte chemical corp., a petrochemical company under south koreas fifthlargest conglomerate lotte group, has completed construction of its new ethane\\\\xa0...',\n",
       " 'wrench said: \\\\u201ckin + cartas connective model is compelling \\\\u2013 the agencies that sit under each of the organisations three pillars of strategic consulting, digital\\\\xa0...',\n",
       " 'wrench said: \\\\u201ckin + cartas connective model is compelling \\\\u2013 the agencies that sit under each of the organisations three pillars of strategic consulting, digital\\\\xa0...',\n",
       " 'wrench said: \\\\u201ckin + cartas connective model is compelling \\\\u2013 the agencies that sit under each of the organisations three pillars of strategic consulting, digital\\\\xa0...',\n",
       " 'wrench said: \\\\u201ckin + cartas connective model is compelling \\\\u2013 the agencies that sit under each of the organisations three pillars of strategic consulting, digital\\\\xa0...',\n",
       " 'cbs corporation executive vice president and chief financial officer christina spade to participate in the moffettnathanson 6th annual media\\\\xa0...',\n",
       " 'cbs corporation executive vice president and chief financial officer christina spade to participate in the moffettnathanson 6th annual media\\\\xa0...',\n",
       " 'cbs corporation executive vice president and chief financial officer christina spade to participate in the moffettnathanson 6th annual media\\\\xa0...',\n",
       " 'cbs corporation executive vice president and chief financial officer christina spade to participate in the moffettnathanson 6th annual media\\\\xa0...',\n",
       " 'niven, who joined aviva investors as portfolio manager in the global equities team last october, will work alongside giles parkinson, who has been manager of\\\\xa0...',\n",
       " 'niven, who joined aviva investors as portfolio manager in the global equities team last october, will work alongside giles parkinson, who has been manager of\\\\xa0...',\n",
       " 'niven, who joined aviva investors as portfolio manager in the global equities team last october, will work alongside giles parkinson, who has been manager of\\\\xa0...',\n",
       " 'niven, who joined aviva investors as portfolio manager in the global equities team last october, will work alongside giles parkinson, who has been manager of\\\\xa0...',\n",
       " 'the amp asset purchase \\\\u2013 on may 10, 2019, the companys frankly media ... but not limited to failure to obtain investor participation in the private placement,\\\\xa0...',\n",
       " 'the amp asset purchase \\\\u2013 on may 10, 2019, the companys frankly media ... but not limited to failure to obtain investor participation in the private placement,\\\\xa0...',\n",
       " 'the amp asset purchase \\\\u2013 on may 10, 2019, the companys frankly media ... but not limited to failure to obtain investor participation in the private placement,\\\\xa0...',\n",
       " 'the amp asset purchase \\\\u2013 on may 10, 2019, the companys frankly media ... but not limited to failure to obtain investor participation in the private placement,\\\\xa0...',\n",
       " 'german insurer munich re group has partnered with cryptography security startup curv inc. to cover up to $50 million worth of digital assets for curv customers,\\\\xa0...',\n",
       " 'new albanybased retailer abercrombie & fitch has entered a partnership with columbusbased cannabis company green growth brands to sell green\\\\xa0...',\n",
       " 'a dollar general store is being developed in a brand new building, to be located behind the new \\\\u201cclancys\\\\u201d super wawa on woodbury glassboro road.',\n",
       " 'bmw and microsoft have forged a partnership to improve incar voicerecognition systems. both companies announced at microsofts build developer\\\\xa0...',\n",
       " 'travelports proposed move to return to private ownership has hit a hurdle in the shape of getting approval from the authorities in russia. a filing to the securities\\\\xa0...',\n",
       " 'a new yorkbased private equity firm has revived its attempts to buy out fort myersbased womens retailer chicos fas. according to regulatory filings with the\\\\xa0...',\n",
       " 'furthermore, bluebird bio announced plans to start clinical development in 2020 with this candidate tcr targeting the tumor antigen magea4, which is\\\\xa0...',\n",
       " 'organic grocery chain sprouts farmers market inc. is moving one of its existing stores in san antonio to a new development nearby. the companys\\\\xa0...',\n",
       " 'iberdrola, siemens gamesa to explore energy storage potential in navarre ... sau and siemens gamesa renewable energy sa bme:sgre, seeking to study\\\\xa0...',\n",
       " 'today, ebay opened a brick and mortar concept store in the uks wolverhampton. the monthlong retail experiment will offer wares from 40 small, local\\\\xa0...',\n",
       " 'while f5 networks has its roots based in the application delivery controller adc market, it has been working on becoming more of a softwarebased company\\\\xa0...',\n",
       " 'paris reuters  air france will cut 465 ground staff jobs from its domestic services ... and highspeed trains, parent company air franceklm said on monday.',\n",
       " '10 may 2019  alstom will supply 16 additional coradia polyvalent trains to the bourgognefranchecomt\\\\xe9 region for a sum of approximately 170 million euros.',\n",
       " 'pandora, the streaming audio provider, has selected opentext media management as the asset storage and management application for its audio and display\\\\xa0...',\n",
       " 'zoom, one of the global leaders in video conferencing and collaboration solutions, recently announced deeper integrations with their longterm partner, slack.',\n",
       " 'together, schneider electric and volara will provide intuitive voice activated guest room control that enhances the guest experience and provides enriched\\\\xa0...',\n",
       " 'raytheon has been ordered to integrate the naval strike missile nsm into the us marine corps usmc existing force structure. the company was selected to\\\\xa0...',\n",
       " 'the deutsche bank charity of the year programme is a twoyear partnership with ... deutsche bank ag is authorised under german banking law competent\\\\xa0...',\n",
       " 'hcl technologies will hire 12,000 fresh graduates from campuses during the current fiscal. the company said it would hire net another 20,000 people in the\\\\xa0...',\n",
       " 'lusaka reuters  zambias mopani copper mines plans to close two shafts at its nkana mine in kitwe, the glencoreowned company said on friday, a move\\\\xa0...',\n",
       " 'gail recruitment 2019: applications have been invited for the recruitment to the posts of chairman and managing director by the gas authority of india limited\\\\xa0...',\n",
       " 'keybank employees will spend part of the day wednesday volunteering at eight community organizations for the 29th annual neighbors make the difference\\\\xa0...',\n",
       " 'chicago  hyatt hotels corporation nyse: h and small luxury hotels of the world\\\\u2122 slh today announced the ongoing expansion of hyatts and slhs\\\\xa0...',\n",
       " 'royal bank of scotland is considering two internal candidates to be the lenders next chief executive, outgoing boss ross mcewan has revealed. the new\\\\xa0...',\n",
       " 'isuzu motors india inaugurated a new fullfledged service facility of torque isuzu in ahmedabad, today. the new facility, located on s.g highway, opposite\\\\xa0...',\n",
       " 'thanks to this partnership, organisations can leverage constantly updated, contextual and actionable threat intelligence from kaspersky lab to enrich their\\\\xa0...',\n",
       " 'seachange international inc revealed 8k form on may 09, 2019 accessible here. item 5.02. departure of directors or certain officers; election of\\\\xa0...',\n",
       " 'lynn, ma cit group inc. and square mile capital management llc has originated a $63.9 million loan to finance the development of the caldwell, a 259unit,\\\\xa0...',\n",
       " 'gail recruitment 2019: gail india limited has issued notification for the hiring medical professionals. the maharatna psu is looking for promising, energetic\\\\xa0...',\n",
       " 'sloughbased pharmaceutical company indivior has signed a licensing agreement to sell its schizophrenia drug to the canadian market. the deal gives hls\\\\xa0...',\n",
       " 'zte and deloitte china enter into partnership aimed at enhancing 5g ... various vertical industry advantages,\" said xu ziyang, president of zte corporation.',\n",
       " 'london \\\\u2022 dialog semiconductor plc said its picking up business from apple inc, as the british chipmaker continues to diversify. dialog currently has cash and\\\\xa0...',\n",
       " 'gilead sciences announced a collaboration with cambridge, mass.based biotech startup goldfinch bio on may 8 that will see the two companies using\\\\xa0...',\n",
       " 'moraine officials say theyre seeking more information about the news some general motors jobs may be coming to the city. on wednesday, president donald\\\\xa0...',\n",
       " 'fujifilm north america corporation fujifilm is pleased to announce a marketing agreement with skylum, an awardwinning leader in photo editing software,\\\\xa0...',\n",
       " 'woori bank job circular 2019 has published. woori bank limited bangladesh job circular 2019 can download from this post. officer/senior officer job post is\\\\xa0...',\n",
       " 'mumbai reuters  indias reliance industries has acquired british toy retailer hamleys, the ... reliance retail has the licence to sell hamleys products in india.',\n",
       " 'last month, nintendo partnered up with tencent to bring the switch to china, but in a recent investor q&a the company said that finding a foothold in the\\\\xa0...',\n",
       " 'new york and san jose, ca \\\\u2013 liveauctioneers and ebay have jointly announced a new partnership that will expand selling opportunities for auction houses in a\\\\xa0...',\n",
       " 'cass information systems, inc. cass, a leading provider of utility invoice payment and information services, has formed a strategic partnership with paylease,\\\\xa0...',\n",
       " 'through the arrangement, square sq, 2.99% sellers will be able to use postmates couriers to get goods to customers who call up to place orders or visit a store\\\\xa0...',\n",
       " 'the agreement will see the mclaren group benefit from the technology and experience of arrow electronics, and of course that will filter down to the f1 team.',\n",
       " 'an agreement has been signed that foresees 1600 post carrier settlements in poste italiane for the first half of 2019, drawing from national rankings ...',\n",
       " 'rakuten showcases strategic partnership with netcracker in keynote and workshop focused on digital business transformation. waltham, mass.',\n",
       " 'as if a new 3d printing system and material werent enough, hp inc. has rounded off its series of announcements this morning with the news that it is deepening\\\\xa0...',\n",
       " 'when president donald trump revealed this week that general motors planned to sell its idle lordstown, ohio, plant to a littleknown company called workhorse\\\\xa0...',\n",
       " 'tencent agreement: jd renews its agreement with tencent for a threeyear period starting may 27. tencent will offer weixin access points for traffic support and\\\\xa0...',\n",
       " 'outotec oyj press release may 10, 2019 at 9:00 am. outotec to sell its fabrication and manufacturing businesses in south africa and mozambique.',\n",
       " 'keybanks new east side branch is getting ready to open next month, and its neighbors are noticing. \"they are emailing us pictures of the branch progress,\" said\\\\xa0...',\n",
       " 'reliance brands, a subsidiary of the reliance industries has signed a definitive agreement to acquire 100% equity shares of hamleys global holdings.',\n",
       " 'new delhi, may 09: syndicate bank recruitment 2019 has begun and the psu bank has announced vacancies for 14 specialist officer posts on its official\\\\xa0...',\n",
       " 'lufthansa may also be interested in buying all thomas cook group airlines, ... when it was founded as deutsche flugdienst and was partly owned by lufthansa,\\\\xa0...',\n",
       " 'operating officer of toyota motor corporation masayoshi shirayanagi, left, and senior managing executive officer of panasonic corporation makoto kitano talk\\\\xa0...',\n",
       " 'investment company bls capital fondsmaeglerselskab a buys expeditors international of washington inc, american express co, sells the estee lauder inc,\\\\xa0...',\n",
       " 'biocon, under the terms of its global partnership with mylan for monoclonal antibodies, retains its economic interest in this expanded inlicensing arrangement\\\\xa0...',\n",
       " 'tokyo, may 9, 2019  jcn newswire  eisai co., ltd. and allm inc. have entered into a capital and business alliance agreement for ict digital health solutions\\\\xa0...',\n",
       " 'postmates has teamed up with square to offer ondemand delivery to squares small business sellers. square sellers now have the ability to offer deliveries that\\\\xa0...',\n",
       " 'autodesk has announced an integration between insitevr and autodesk bim 360: the first commercially available solution on autodesks construction platform\\\\xa0...',\n",
       " 'gail india ltd has awarded contracts worth ?10,500 crore to speed up the completion of the jagdishpurhaldia & bokarodhamra natural gas pipeline\\\\xa0...',\n",
       " 'gail recruitment 2019: gail india limited has invited applications for recruitment to the post of chairman and managing director. interested candidates can\\\\xa0...',\n",
       " 'prologis has completed a 10,600 sqm speculative facility at prologis park budapestharbor, located 12 km to the south of central budapest. the company says it\\\\xa0...',\n",
       " 'pharmaceutical major lupin said it signed a distribution agreement with ... pharmaceutical major lupin said that yl biologics limited, its newly formed joint\\\\xa0...',\n",
       " 'new delhi: drug firm lupin thursday said it has entered into a definitive agreement with swiss company aptissen to market, distribute and sell the current\\\\xa0...',\n",
       " 'toyota motor corporation toyota has completed work on the central section of its new research and development facility, named toyota technical center\\\\xa0...',\n",
       " 'by bloomberg. new york \\\\u2022 prologis inc has expressed interest in buying glp pte ltds us operations as the singaporebased warehouse owner prepares\\\\xa0...',\n",
       " 'wipro \\\\u2014 the fourth largest it services company in india \\\\u2014 is planning to hire technical sales professionals with knowledge in cloud, cyber security and\\\\xa0...',\n",
       " 'kb kookmin bank announced on may 8 that it has opened an investment banking ib unit in new york on may 7 local time. the new york unit is the banks\\\\xa0...',\n",
       " 'agc officials said the unavailability of experienced construction workers shows why ... associated builders and contractors, inc. also took note of the bls data\\\\xa0...',\n",
       " 'it will open a nordstrom local store, which will be a \\\\u201cneighborhood service hub,\\\\u201d according to the announcement. services will include online order pickup,\\\\xa0...',\n",
       " 'industrial heavyweight goodman group has nabbed automotive giant bmw to occupy a fourstorey stateoftheart facility at its masterplanned goodman\\\\xa0...',\n",
       " 'wework is partnering with rxr to manage 90,000 square feet at 75 rockefeller plaza in a revenuesharing agreement, the first such deal the coworking giant\\\\xa0...',\n",
       " 'dod reported that l3 technologies inc., doing business as l3 keo, northampton, massachusetts, was awarded a $14,110,638 firmfixedprice modification to\\\\xa0...',\n",
       " 'job losses at investec are possible. brewin dolphin said it would bring the companys investment team of 33 on board, but they will be joined by \\\\u201conly the\\\\xa0...',\n",
       " 'topaz energy and marine, an offshore marine logistics company, has signed a longterm agreement and placed an order with baker hughes, a ge company,\\\\xa0...',\n",
       " 'san diegobusiness wiretrumed systems, inc., makers of the accuvax vaccine management system, announced a partnership with athenahealth, inc.,\\\\xa0...',\n",
       " 'first abu dhabi bank fab, one of the worlds largest financial institutions based in the uae capital, has officially launched its operations in saudi arabia.',\n",
       " 'netdragon websoft holdings limited \"netdragon\" or \"the company\", hong kong stock code: 777, a global leader in building internet communities, is pleased\\\\xa0...',\n",
       " 'accor has unveiled what it says is \\\\u201can audacious plan\\\\u201d to introduce 1,200 wojo coworking spaces across europe in the next three years. the wojo brand until\\\\xa0...',\n",
       " 'square is partnering with courier network postmates to bring ondemand deliveries to more restaurants and retailers. the integration, which is rolling out today,\\\\xa0...',\n",
       " 'in addition, lhu is working with upmc susquehanna to develop and expand ... upmcs workforce needs for employee development and advanced training.',\n",
       " 'conroy media, a longtime nielsen scarborough subscriber, has expanded its ... nielsen holdings plc nyse: nlsn is a global measurement and data\\\\xa0...',\n",
       " 'conroy media, a longtime nielsen scarborough subscriber, has expanded its ... nielsen holdings plc nyse: nlsn is a global measurement and data\\\\xa0...',\n",
       " 'conroy media, a longtime nielsen scarborough subscriber, has expanded its ... nielsen holdings plc nyse: nlsn is a global measurement and data\\\\xa0...',\n",
       " 'conroy media, a longtime nielsen scarborough subscriber, has expanded its ... nielsen holdings plc nyse: nlsn is a global measurement and data\\\\xa0...',\n",
       " 'sabre corporation has appointed jaya kumar k as vice president & managing director for sabre global development center in bangalore. in his role, kumar\\\\xa0...',\n",
       " 'magellan aerospace reported 10may2019 the competitive landscape within the commercial aircraft industry \"has been changing as vertical integration\\\\xa0...',\n",
       " 'standard chartered plc is reviving stalled plans to open a third branch in iraq amid what the bank sees as a dramatic improvement in security in the opec\\\\xa0...',\n",
       " 'houston, may 7 reuters  pioneer natural resources said on tuesday it has ... the company expects to save $100 million annually with the job cuts and a\\\\xa0...',\n",
       " 'flipkart has announced the introduction of its online grocery store supermart in mumbai to cater to online buyers here and compete with online grocer bigbasket\\\\xa0...',\n",
       " 'honda talon announced as official sport sidebyside of aft. \\\\u2013 american flat track and american honda motor co. proudly announce the first official\\\\xa0...',\n",
       " 'houston, may 8 xinhua  china national offshore oil corporation cnooc is committed to strengthen international technology interchange and\\\\xa0...',\n",
       " 'the service will be offered on at&t uverse and directv for $5.99 per month beginning may 19, said the companies. the network will also be available to the\\\\xa0...',\n",
       " 'pepsico. $nasdaq:pep announced that it is investing $4 billion into mexico between now and 2020, with the aim to create 3,000 new jobs and a $109 million\\\\xa0...',\n",
       " 'bloomberg  nissan motor co. is opposing renewed efforts by alliance partner renault sa to merge under a holding company because such a structure wont\\\\xa0...',\n",
       " 'visa inc. v has acquired earthport, a u.kbased company. the deal is expected to bolster visas cross border payments business, and allow customers to make\\\\xa0...',\n",
       " 'in q4 2018, panda signed a multiyear agreement with the cocacola company to be the new strategic beverage partner and, together, the two companies\\\\xa0...',\n",
       " 'samsung groups electronics units are said to be planning to invest 25 billion rupees us$360.35 million or 421.25 billion won in smartphone production lines\\\\xa0...',\n",
       " 'the alloy silverstein group announced that payroll express inc. has merged into ... under the abacus payroll inc. brand name at the hammonton office location,\\\\xa0...',\n",
       " 'editors note: this story has been updated with comment from lidl us. brick  first it was trader joes. now its lidl. the german discount grocer, which is\\\\xa0...',\n",
       " 'medtronic plc announced it has entered into a definitive agreement to acquire titan spine, including the companys complete portfolio, which consists of a\\\\xa0...',\n",
       " 'bridgewater \\\\u2014 attention shoppers: new jersey could be getting another trader joes. the specialty food store with a national cult following is looking to\\\\xa0...',\n",
       " 'accentcare, inc., a leading postacute care company, based in dallas, texas has purchased three healthcare businesses on the east coast of florida,\\\\xa0...',\n",
       " 'shareholder advisory firms back teamster proposal to separate xpo ... the chairman and ceo positions at xpo logistics, inc. nyse: xpo and appoint an\\\\xa0...',\n",
       " 'sofia bulgaria, may 10 seenews  eurobank bulgaria, which operates under the postbank brand, has received clearance from the commission for\\\\xa0...',\n",
       " 'asset management companies fiera capital of canada and natixis investment managers of france have entered into a longterm partnership agreement under\\\\xa0...',\n",
       " 'new york & parisbusiness wire. combination of aladdin and efront sets new standard in investment management technology. blackrock, inc.',\n",
       " 'at this point, we wish to inform you that axiata group bhd and norwegian telenor group are still in talks and the outcome has yet to be finalised,\" the\\\\xa0...',\n",
       " 'osaka, japan, may 10, 2019 /prnewswire/  on may 9, 2019, panasonic corporation announced that it has reached a collaboration agreement with gssolar\\\\xa0...',\n",
       " 'leading automotive suppliers calsonic kansei and magneti marelli have announced that they are uniting under one worldwide brand \\\\u2013 marelli. the move to a\\\\xa0...',\n",
       " 'alden owns the newspaper chain mng enterprises \\\\u2014 also known as digital first media \\\\u2014 which has been dangling a $12ashare offer for gannett, a company\\\\xa0...',\n",
       " 'its a lesson desjardins learned during its acquisition of state farm. ... farm had its systems, from policy to claims to compensation, wired into the u.s. group.',\n",
       " 'varian medical systems has acquired cyberheart for an undisclosed sum. cyberheart has been developing the use of radiation to correct chronic heart\\\\xa0...',\n",
       " 'the european commission has opened an indepth investigation to assess the proposed acquisition of bonnier broadcasting by telia company under the eu\\\\xa0...',\n",
       " 'eurobank bulgaria, part of greeces eurobank ergasias group, received preliminary approval from bulgarias central bank to acquire the majority interest in\\\\xa0...',\n",
       " 'new delhi: it company hcl technologies said its board has approved the scheme for merger of four of its subsidiaries, including hcl comnet, with itself.',\n",
       " 'dubaibased port operator dp world has signed an agreement to acquire canadian marine terminal fraser surrey docks from macquarie infrastructure partners\\\\xa0...',\n",
       " 'waters urges agency postponement of final decisions on suntrust and bb&t ... [5] bb&t has several national businesses, such as insurance and corporate\\\\xa0...',\n",
       " 'f5 networks just closed its nginx deal which will help the company on its ... f5 security adding protection to nginx products, and nginx load balancing\\\\xa0...',\n",
       " 'pending a successful close of the transaction, boston scientific plans to pay $465 million in upfront cash for vertiflex and make additional payments for the next\\\\xa0...',\n",
       " 'mark zuckerberg has never had a real boss, and its one reason he turned down a $1 billion acquisition offer from yahoo, facebooks cofounder says.',\n",
       " 'boston scientific nyse: bsx today announced that it has entered into a definitive agreement to acquire vertiflex, inc., a privatelyheld company which has\\\\xa0...',\n",
       " 'single digits, inc. announced today that it has completed the acquisition of the guest wifi business of resolute partners. as part of the acquisition, single digits\\\\xa0...']"
      ]
     },
     "execution_count": 34,
     "metadata": {},
     "output_type": "execute_result"
    }
   ],
   "source": [
    "example = text_clense_frame(snipp_test) # get the tokens\n",
    "\n",
    "example"
   ]
  },
  {
   "cell_type": "code",
   "execution_count": 33,
   "metadata": {},
   "outputs": [],
   "source": [
    "vocab_size = 9573 \n",
    "\n",
    "tokenizertest = Tokenizer(num_words=vocab_size) \n",
    "tokenizertest.fit_on_texts(example)\n",
    "sequencestest = tokenizertest.texts_to_sequences(example) "
   ]
  },
  {
   "cell_type": "code",
   "execution_count": 34,
   "metadata": {},
   "outputs": [],
   "source": [
    "word_index1 = tokenizertest.word_index\n"
   ]
  },
  {
   "cell_type": "code",
   "execution_count": 35,
   "metadata": {},
   "outputs": [],
   "source": [
    "def pridct_label(testperoc):\n",
    "    pr_label=[]\n",
    "    for i in testperoc:\n",
    "        ind = np.unravel_index(np.argmax(i, axis=None), i.shape)\n",
    "        \n",
    "        pr_label.append(ind[0])\n",
    "    pr_label=[(prt+1) for prt in pr_label]\n",
    "    return pr_label"
   ]
  },
  {
   "cell_type": "markdown",
   "metadata": {},
   "source": [
    "I weighted average for pridicting multiple feature in the dataset.With wighted averge I calculate by the Pearson correlation coefficient with label and set that accordingly at the time of testing"
   ]
  },
  {
   "cell_type": "code",
   "execution_count": 36,
   "metadata": {},
   "outputs": [],
   "source": [
    "from scipy.stats import pearsonr"
   ]
  },
  {
   "cell_type": "code",
   "execution_count": 37,
   "metadata": {},
   "outputs": [],
   "source": [
    "Y_test=test['category_id']"
   ]
  },
  {
   "cell_type": "code",
   "execution_count": 38,
   "metadata": {},
   "outputs": [],
   "source": [
    "model.load_weights(\"H5 weightCNN/snippet.h5\")"
   ]
  },
  {
   "cell_type": "code",
   "execution_count": 39,
   "metadata": {},
   "outputs": [],
   "source": [
    "snippetlabel = model.predict(x_train_pad)"
   ]
  },
  {
   "cell_type": "code",
   "execution_count": 40,
   "metadata": {},
   "outputs": [],
   "source": [
    "titlecoff=np.nan_to_num(pearsonr(snippetlabel, Y_train)[0])"
   ]
  },
  {
   "cell_type": "code",
   "execution_count": 41,
   "metadata": {},
   "outputs": [
    {
     "name": "stdout",
     "output_type": "stream",
     "text": [
      "0.65143\n"
     ]
    }
   ],
   "source": [
    "titlecoff"
   ]
  },
  {
   "cell_type": "code",
   "execution_count": 43,
   "metadata": {},
   "outputs": [],
   "source": [
    "model.load_weights(\"H5 weightCNN/news_description.h5\")"
   ]
  },
  {
   "cell_type": "code",
   "execution_count": 44,
   "metadata": {},
   "outputs": [],
   "source": [
    "descriplabel = model.predict(x_train_pad)"
   ]
  },
  {
   "cell_type": "code",
   "execution_count": 45,
   "metadata": {},
   "outputs": [],
   "source": [
    "descripcoff=np.nan_to_num(pearsonr(descriplabel, Y_train)[0])"
   ]
  },
  {
   "cell_type": "code",
   "execution_count": 46,
   "metadata": {},
   "outputs": [
    {
     "name": "stdout",
     "output_type": "stream",
     "text": [
      "0.24314\n"
     ]
    }
   ],
   "source": [
    "descripcoff"
   ]
  },
  {
   "cell_type": "code",
   "execution_count": 47,
   "metadata": {},
   "outputs": [],
   "source": [
    "model.load_weights(\"H5 weightCNN/title.h5\")"
   ]
  },
  {
   "cell_type": "code",
   "execution_count": 48,
   "metadata": {},
   "outputs": [],
   "source": [
    "descriplabel = model.predict(x_train_pad)"
   ]
  },
  {
   "cell_type": "code",
   "execution_count": 49,
   "metadata": {},
   "outputs": [],
   "source": [
    "descripcoff=np.nan_to_num(pearsonr(descriplabel, Y_train)[0])"
   ]
  },
  {
   "cell_type": "code",
   "execution_count": 50,
   "metadata": {},
   "outputs": [],
   "source": [
    "Y_test=[tes for tes in Y_test]"
   ]
  },
  {
   "cell_type": "code",
   "execution_count": 51,
   "metadata": {},
   "outputs": [],
   "source": [
    "max_length = 100\n",
    "datatest = pad_sequences(sequencestest, maxlen=max_length)"
   ]
  },
  {
   "cell_type": "code",
   "execution_count": 52,
   "metadata": {},
   "outputs": [],
   "source": [
    "snipptest=X_test['snippet']\n",
    "titletest=X_test['title']\n",
    "descrip_test=X_test['news_description']"
   ]
  },
  {
   "cell_type": "code",
   "execution_count": 53,
   "metadata": {},
   "outputs": [],
   "source": [
    "model.load_weights(\"H5 weightCNN/modeltsnippt.h5\")"
   ]
  },
  {
   "cell_type": "code",
   "execution_count": 54,
   "metadata": {},
   "outputs": [],
   "source": [
    "num_words1=100\n",
    "Tokenize the text\n",
    "tokenize1=Tokenizer(num_words=num_words1)\n",
    "tokenize1.fit_on_texts(X_train)\n",
    "idx=tokenize.word_index\n",
    "x_test_tokensnip=tokenize.texts_to_sequences(snipptest)"
   ]
  },
  {
   "cell_type": "code",
   "execution_count": 55,
   "metadata": {},
   "outputs": [],
   "source": [
    "pad='pre'\n",
    "x_test_padsnip=pad_sequences(x_test_tokensnip,maxlen=10,padding=pad,truncating=pad)"
   ]
  },
  {
   "cell_type": "code",
   "execution_count": 56,
   "metadata": {},
   "outputs": [],
   "source": [
    "predtest1 = model.predict(x_test_padsnip)"
   ]
  },
  {
   "cell_type": "code",
   "execution_count": 57,
   "metadata": {},
   "outputs": [],
   "source": [
    "sniptestplabels=pridct_label(predtest1)"
   ]
  },
  {
   "cell_type": "code",
   "execution_count": 58,
   "metadata": {},
   "outputs": [],
   "source": [
    "model.load_weights(\"H5 weightCNN/modeltitle.h5\")"
   ]
  },
  {
   "cell_type": "code",
   "execution_count": 59,
   "metadata": {},
   "outputs": [],
   "source": [
    "num_words2=100\n",
    "Tokenize the text\n",
    "tokenize2=Tokenizer(num_words=num_words2)\n",
    "tokenize2.fit_on_texts(titletest)\n",
    "idx=tokenize.word_index\n",
    "x_test_tokentitle=tokenize.texts_to_sequences(titletest)\n",
    "pad='pre'\n",
    "x_test_title_token=pad_sequences(x_test_tokentitle,maxlen=10,padding=pad,truncating=pad)"
   ]
  },
  {
   "cell_type": "code",
   "execution_count": 60,
   "metadata": {},
   "outputs": [],
   "source": [
    "x_test_modeltitle=pad_sequences(x_test_title_token,maxlen=10,padding=pad,truncating=pad)"
   ]
  },
  {
   "cell_type": "code",
   "execution_count": 61,
   "metadata": {},
   "outputs": [],
   "source": [
    "predtest2=model.predict(x_test_modeltitle)"
   ]
  },
  {
   "cell_type": "code",
   "execution_count": 62,
   "metadata": {},
   "outputs": [],
   "source": [
    "titletestplabels=pridct_label(predtest2)"
   ]
  },
  {
   "cell_type": "code",
   "execution_count": 63,
   "metadata": {},
   "outputs": [],
   "source": [
    "model.load_weights(\"H5 weightCNN/descrips_text.h5\")"
   ]
  },
  {
   "cell_type": "code",
   "execution_count": 64,
   "metadata": {},
   "outputs": [],
   "source": [
    "num_words3=100\n",
    "Tokenize the text\n",
    "tokenize3=Tokenizer(num_words=num_words3)\n",
    "tokenize3.fit_on_texts(descrip_test)\n",
    "idx=tokenize.word_index\n",
    "x_test_tokentitle=tokenize.texts_to_sequences(descrip_test)\n",
    "pad='pre'\n",
    "x_test_descrip_token=pad_sequences(x_test_tokentitle,maxlen=10,padding=pad,truncating=pad)"
   ]
  },
  {
   "cell_type": "code",
   "execution_count": 66,
   "metadata": {},
   "outputs": [],
   "source": [
    "predtest3 = model.predict(x_test_descrip_token)"
   ]
  },
  {
   "cell_type": "code",
   "execution_count": 67,
   "metadata": {},
   "outputs": [],
   "source": [
    "desctesplabels=pridct_label(predtest3)"
   ]
  },
  {
   "cell_type": "code",
   "execution_count": 68,
   "metadata": {},
   "outputs": [],
   "source": [
    "def scarmul(lis1,elem,lis2,elem1,lis3,elem3):\n",
    "    listfi=[]\n",
    "    for a,b,c in zip(lis1,lis2,lis3):\n",
    "        cal=round((a*elem)+(b*elem1)+(c*elem3))\n",
    "        listfi.append(cal)\n",
    "    return listfi"
   ]
  },
  {
   "cell_type": "code",
   "execution_count": 73,
   "metadata": {},
   "outputs": [],
   "source": [
    "prff=scarmul(sniptestplabels,snipcoff,titletestplabels,titlecoff,desctesplabels,desccoff)"
   ]
  },
  {
   "cell_type": "code",
   "execution_count": 74,
   "metadata": {},
   "outputs": [],
   "source": [
    "from sklearn.metrics import f1_score"
   ]
  },
  {
   "cell_type": "markdown",
   "metadata": {},
   "source": [
    "I used F1 score to evaluate this model which give the result below"
   ]
  },
  {
   "cell_type": "code",
   "execution_count": 77,
   "metadata": {},
   "outputs": [
    {
     "name": "stdout",
     "output_type": "stream",
     "text": [
      "0.7458\n"
     ]
    }
   ],
   "source": [
    "f1_score(Y_test, prtf,average='macro')  "
   ]
  },
  {
   "cell_type": "code",
   "execution_count": 78,
   "metadata": {},
   "outputs": [],
   "source": [
    "from sklearn.metrics import roc_auc_score"
   ]
  },
  {
   "cell_type": "code",
   "execution_count": 79,
   "metadata": {},
   "outputs": [],
   "source": [
    "from sklearn.preprocessing import LabelBinarizer"
   ]
  },
  {
   "cell_type": "code",
   "execution_count": 80,
   "metadata": {},
   "outputs": [],
   "source": [
    "lb = LabelBinarizer()\n",
    "lb.fit(Y_test)\n",
    "y_test = lb.transform(Y_test)\n",
    "y_pred = lb.transform(prff)"
   ]
  },
  {
   "cell_type": "code",
   "execution_count": 81,
   "metadata": {},
   "outputs": [
    {
     "name": "stdout",
     "output_type": "stream",
     "text": [
      "0.7942\n"
     ]
    }
   ],
   "source": [
    "roc_auc_score(y_test, y_pred, average='macro')"
   ]
  },
  {
   "cell_type": "code",
   "execution_count": null,
   "metadata": {},
   "outputs": [],
   "source": []
  },
  {
   "cell_type": "code",
   "execution_count": null,
   "metadata": {},
   "outputs": [],
   "source": []
  },
  {
   "cell_type": "code",
   "execution_count": null,
   "metadata": {},
   "outputs": [],
   "source": []
  },
  {
   "cell_type": "code",
   "execution_count": null,
   "metadata": {},
   "outputs": [],
   "source": []
  },
  {
   "cell_type": "code",
   "execution_count": null,
   "metadata": {},
   "outputs": [],
   "source": []
  },
  {
   "cell_type": "code",
   "execution_count": null,
   "metadata": {},
   "outputs": [],
   "source": []
  },
  {
   "cell_type": "code",
   "execution_count": null,
   "metadata": {},
   "outputs": [],
   "source": []
  },
  {
   "cell_type": "code",
   "execution_count": null,
   "metadata": {},
   "outputs": [],
   "source": []
  },
  {
   "cell_type": "code",
   "execution_count": null,
   "metadata": {},
   "outputs": [],
   "source": []
  },
  {
   "cell_type": "code",
   "execution_count": null,
   "metadata": {},
   "outputs": [],
   "source": []
  }
 ],
 "metadata": {
  "anaconda-cloud": {},
  "kernelspec": {
   "display_name": "Python 3",
   "language": "python",
   "name": "python3"
  },
  "language_info": {
   "codemirror_mode": {
    "name": "ipython",
    "version": 3
   },
   "file_extension": ".py",
   "mimetype": "text/x-python",
   "name": "python",
   "nbconvert_exporter": "python",
   "pygments_lexer": "ipython3",
   "version": "3.6.7"
  }
 },
 "nbformat": 4,
 "nbformat_minor": 1
}
